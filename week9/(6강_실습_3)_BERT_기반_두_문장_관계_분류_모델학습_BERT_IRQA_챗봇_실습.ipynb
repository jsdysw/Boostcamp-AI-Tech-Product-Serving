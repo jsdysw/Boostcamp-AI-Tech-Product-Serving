{
  "nbformat": 4,
  "nbformat_minor": 0,
  "metadata": {
    "colab": {
      "provenance": [],
      "machine_shape": "hm",
      "include_colab_link": true
    },
    "kernelspec": {
      "name": "python3",
      "display_name": "Python 3"
    },
    "accelerator": "GPU",
    "widgets": {
      "application/vnd.jupyter.widget-state+json": {
        "3bfd0af2d5134fb896c2b8fac60fffdd": {
          "model_module": "@jupyter-widgets/controls",
          "model_name": "HBoxModel",
          "model_module_version": "1.5.0",
          "state": {
            "_view_name": "HBoxView",
            "_dom_classes": [],
            "_model_name": "HBoxModel",
            "_view_module": "@jupyter-widgets/controls",
            "_model_module_version": "1.5.0",
            "_view_count": null,
            "_view_module_version": "1.5.0",
            "box_style": "",
            "layout": "IPY_MODEL_310c79166a91456e9de77d3351bd729a",
            "_model_module": "@jupyter-widgets/controls",
            "children": [
              "IPY_MODEL_f42b55b1f49945abac1a2cc63f23915f",
              "IPY_MODEL_2be71444fb444a5c8d3e27f5e7a2d375",
              "IPY_MODEL_c5ad7e30373d4dc88f3ea22234094ef3"
            ]
          }
        },
        "310c79166a91456e9de77d3351bd729a": {
          "model_module": "@jupyter-widgets/base",
          "model_name": "LayoutModel",
          "model_module_version": "1.2.0",
          "state": {
            "_view_name": "LayoutView",
            "grid_template_rows": null,
            "right": null,
            "justify_content": null,
            "_view_module": "@jupyter-widgets/base",
            "overflow": null,
            "_model_module_version": "1.2.0",
            "_view_count": null,
            "flex_flow": null,
            "width": null,
            "min_width": null,
            "border": null,
            "align_items": null,
            "bottom": null,
            "_model_module": "@jupyter-widgets/base",
            "top": null,
            "grid_column": null,
            "overflow_y": null,
            "overflow_x": null,
            "grid_auto_flow": null,
            "grid_area": null,
            "grid_template_columns": null,
            "flex": null,
            "_model_name": "LayoutModel",
            "justify_items": null,
            "grid_row": null,
            "max_height": null,
            "align_content": null,
            "visibility": null,
            "align_self": null,
            "height": null,
            "min_height": null,
            "padding": null,
            "grid_auto_rows": null,
            "grid_gap": null,
            "max_width": null,
            "order": null,
            "_view_module_version": "1.2.0",
            "grid_template_areas": null,
            "object_position": null,
            "object_fit": null,
            "grid_auto_columns": null,
            "margin": null,
            "display": null,
            "left": null
          }
        },
        "f42b55b1f49945abac1a2cc63f23915f": {
          "model_module": "@jupyter-widgets/controls",
          "model_name": "HTMLModel",
          "model_module_version": "1.5.0",
          "state": {
            "_view_name": "HTMLView",
            "style": "IPY_MODEL_a97f689db12c4b96b4cafcc3b87a1a74",
            "_dom_classes": [],
            "description": "",
            "_model_name": "HTMLModel",
            "placeholder": "​",
            "_view_module": "@jupyter-widgets/controls",
            "_model_module_version": "1.5.0",
            "value": "Downloading: 100%",
            "_view_count": null,
            "_view_module_version": "1.5.0",
            "description_tooltip": null,
            "_model_module": "@jupyter-widgets/controls",
            "layout": "IPY_MODEL_a49ad3d47efc4994b502edf8710cdf12"
          }
        },
        "2be71444fb444a5c8d3e27f5e7a2d375": {
          "model_module": "@jupyter-widgets/controls",
          "model_name": "FloatProgressModel",
          "model_module_version": "1.5.0",
          "state": {
            "_view_name": "ProgressView",
            "style": "IPY_MODEL_c2258485bc6a465ba8d2088a7a82a6e0",
            "_dom_classes": [],
            "description": "",
            "_model_name": "FloatProgressModel",
            "bar_style": "success",
            "max": 29,
            "_view_module": "@jupyter-widgets/controls",
            "_model_module_version": "1.5.0",
            "value": 29,
            "_view_count": null,
            "_view_module_version": "1.5.0",
            "orientation": "horizontal",
            "min": 0,
            "description_tooltip": null,
            "_model_module": "@jupyter-widgets/controls",
            "layout": "IPY_MODEL_2c9b70fcc22b4d1d9868431be99d4d08"
          }
        },
        "c5ad7e30373d4dc88f3ea22234094ef3": {
          "model_module": "@jupyter-widgets/controls",
          "model_name": "HTMLModel",
          "model_module_version": "1.5.0",
          "state": {
            "_view_name": "HTMLView",
            "style": "IPY_MODEL_0051cea94e82480795a63bc9b12d96e0",
            "_dom_classes": [],
            "description": "",
            "_model_name": "HTMLModel",
            "placeholder": "​",
            "_view_module": "@jupyter-widgets/controls",
            "_model_module_version": "1.5.0",
            "value": " 29.0/29.0 [00:00&lt;00:00, 664B/s]",
            "_view_count": null,
            "_view_module_version": "1.5.0",
            "description_tooltip": null,
            "_model_module": "@jupyter-widgets/controls",
            "layout": "IPY_MODEL_c7a83334e0c94ffda6814e88967d5e39"
          }
        },
        "a97f689db12c4b96b4cafcc3b87a1a74": {
          "model_module": "@jupyter-widgets/controls",
          "model_name": "DescriptionStyleModel",
          "model_module_version": "1.5.0",
          "state": {
            "_view_name": "StyleView",
            "_model_name": "DescriptionStyleModel",
            "description_width": "",
            "_view_module": "@jupyter-widgets/base",
            "_model_module_version": "1.5.0",
            "_view_count": null,
            "_view_module_version": "1.2.0",
            "_model_module": "@jupyter-widgets/controls"
          }
        },
        "a49ad3d47efc4994b502edf8710cdf12": {
          "model_module": "@jupyter-widgets/base",
          "model_name": "LayoutModel",
          "model_module_version": "1.2.0",
          "state": {
            "_view_name": "LayoutView",
            "grid_template_rows": null,
            "right": null,
            "justify_content": null,
            "_view_module": "@jupyter-widgets/base",
            "overflow": null,
            "_model_module_version": "1.2.0",
            "_view_count": null,
            "flex_flow": null,
            "width": null,
            "min_width": null,
            "border": null,
            "align_items": null,
            "bottom": null,
            "_model_module": "@jupyter-widgets/base",
            "top": null,
            "grid_column": null,
            "overflow_y": null,
            "overflow_x": null,
            "grid_auto_flow": null,
            "grid_area": null,
            "grid_template_columns": null,
            "flex": null,
            "_model_name": "LayoutModel",
            "justify_items": null,
            "grid_row": null,
            "max_height": null,
            "align_content": null,
            "visibility": null,
            "align_self": null,
            "height": null,
            "min_height": null,
            "padding": null,
            "grid_auto_rows": null,
            "grid_gap": null,
            "max_width": null,
            "order": null,
            "_view_module_version": "1.2.0",
            "grid_template_areas": null,
            "object_position": null,
            "object_fit": null,
            "grid_auto_columns": null,
            "margin": null,
            "display": null,
            "left": null
          }
        },
        "c2258485bc6a465ba8d2088a7a82a6e0": {
          "model_module": "@jupyter-widgets/controls",
          "model_name": "ProgressStyleModel",
          "model_module_version": "1.5.0",
          "state": {
            "_view_name": "StyleView",
            "_model_name": "ProgressStyleModel",
            "description_width": "",
            "_view_module": "@jupyter-widgets/base",
            "_model_module_version": "1.5.0",
            "_view_count": null,
            "_view_module_version": "1.2.0",
            "bar_color": null,
            "_model_module": "@jupyter-widgets/controls"
          }
        },
        "2c9b70fcc22b4d1d9868431be99d4d08": {
          "model_module": "@jupyter-widgets/base",
          "model_name": "LayoutModel",
          "model_module_version": "1.2.0",
          "state": {
            "_view_name": "LayoutView",
            "grid_template_rows": null,
            "right": null,
            "justify_content": null,
            "_view_module": "@jupyter-widgets/base",
            "overflow": null,
            "_model_module_version": "1.2.0",
            "_view_count": null,
            "flex_flow": null,
            "width": null,
            "min_width": null,
            "border": null,
            "align_items": null,
            "bottom": null,
            "_model_module": "@jupyter-widgets/base",
            "top": null,
            "grid_column": null,
            "overflow_y": null,
            "overflow_x": null,
            "grid_auto_flow": null,
            "grid_area": null,
            "grid_template_columns": null,
            "flex": null,
            "_model_name": "LayoutModel",
            "justify_items": null,
            "grid_row": null,
            "max_height": null,
            "align_content": null,
            "visibility": null,
            "align_self": null,
            "height": null,
            "min_height": null,
            "padding": null,
            "grid_auto_rows": null,
            "grid_gap": null,
            "max_width": null,
            "order": null,
            "_view_module_version": "1.2.0",
            "grid_template_areas": null,
            "object_position": null,
            "object_fit": null,
            "grid_auto_columns": null,
            "margin": null,
            "display": null,
            "left": null
          }
        },
        "0051cea94e82480795a63bc9b12d96e0": {
          "model_module": "@jupyter-widgets/controls",
          "model_name": "DescriptionStyleModel",
          "model_module_version": "1.5.0",
          "state": {
            "_view_name": "StyleView",
            "_model_name": "DescriptionStyleModel",
            "description_width": "",
            "_view_module": "@jupyter-widgets/base",
            "_model_module_version": "1.5.0",
            "_view_count": null,
            "_view_module_version": "1.2.0",
            "_model_module": "@jupyter-widgets/controls"
          }
        },
        "c7a83334e0c94ffda6814e88967d5e39": {
          "model_module": "@jupyter-widgets/base",
          "model_name": "LayoutModel",
          "model_module_version": "1.2.0",
          "state": {
            "_view_name": "LayoutView",
            "grid_template_rows": null,
            "right": null,
            "justify_content": null,
            "_view_module": "@jupyter-widgets/base",
            "overflow": null,
            "_model_module_version": "1.2.0",
            "_view_count": null,
            "flex_flow": null,
            "width": null,
            "min_width": null,
            "border": null,
            "align_items": null,
            "bottom": null,
            "_model_module": "@jupyter-widgets/base",
            "top": null,
            "grid_column": null,
            "overflow_y": null,
            "overflow_x": null,
            "grid_auto_flow": null,
            "grid_area": null,
            "grid_template_columns": null,
            "flex": null,
            "_model_name": "LayoutModel",
            "justify_items": null,
            "grid_row": null,
            "max_height": null,
            "align_content": null,
            "visibility": null,
            "align_self": null,
            "height": null,
            "min_height": null,
            "padding": null,
            "grid_auto_rows": null,
            "grid_gap": null,
            "max_width": null,
            "order": null,
            "_view_module_version": "1.2.0",
            "grid_template_areas": null,
            "object_position": null,
            "object_fit": null,
            "grid_auto_columns": null,
            "margin": null,
            "display": null,
            "left": null
          }
        },
        "7da6b777ee38439e841c15594278eb51": {
          "model_module": "@jupyter-widgets/controls",
          "model_name": "HBoxModel",
          "model_module_version": "1.5.0",
          "state": {
            "_view_name": "HBoxView",
            "_dom_classes": [],
            "_model_name": "HBoxModel",
            "_view_module": "@jupyter-widgets/controls",
            "_model_module_version": "1.5.0",
            "_view_count": null,
            "_view_module_version": "1.5.0",
            "box_style": "",
            "layout": "IPY_MODEL_f19a29fa42af442db5d682349a47badb",
            "_model_module": "@jupyter-widgets/controls",
            "children": [
              "IPY_MODEL_68be15cb3bd945afadbff142941c27c0",
              "IPY_MODEL_fe6435e15b794ae1826e26b5096ffe7d",
              "IPY_MODEL_ed06a5bc1d6346669edc28d5a3ded40d"
            ]
          }
        },
        "f19a29fa42af442db5d682349a47badb": {
          "model_module": "@jupyter-widgets/base",
          "model_name": "LayoutModel",
          "model_module_version": "1.2.0",
          "state": {
            "_view_name": "LayoutView",
            "grid_template_rows": null,
            "right": null,
            "justify_content": null,
            "_view_module": "@jupyter-widgets/base",
            "overflow": null,
            "_model_module_version": "1.2.0",
            "_view_count": null,
            "flex_flow": null,
            "width": null,
            "min_width": null,
            "border": null,
            "align_items": null,
            "bottom": null,
            "_model_module": "@jupyter-widgets/base",
            "top": null,
            "grid_column": null,
            "overflow_y": null,
            "overflow_x": null,
            "grid_auto_flow": null,
            "grid_area": null,
            "grid_template_columns": null,
            "flex": null,
            "_model_name": "LayoutModel",
            "justify_items": null,
            "grid_row": null,
            "max_height": null,
            "align_content": null,
            "visibility": null,
            "align_self": null,
            "height": null,
            "min_height": null,
            "padding": null,
            "grid_auto_rows": null,
            "grid_gap": null,
            "max_width": null,
            "order": null,
            "_view_module_version": "1.2.0",
            "grid_template_areas": null,
            "object_position": null,
            "object_fit": null,
            "grid_auto_columns": null,
            "margin": null,
            "display": null,
            "left": null
          }
        },
        "68be15cb3bd945afadbff142941c27c0": {
          "model_module": "@jupyter-widgets/controls",
          "model_name": "HTMLModel",
          "model_module_version": "1.5.0",
          "state": {
            "_view_name": "HTMLView",
            "style": "IPY_MODEL_8ed317147c324914ac60eebad539dece",
            "_dom_classes": [],
            "description": "",
            "_model_name": "HTMLModel",
            "placeholder": "​",
            "_view_module": "@jupyter-widgets/controls",
            "_model_module_version": "1.5.0",
            "value": "Downloading: 100%",
            "_view_count": null,
            "_view_module_version": "1.5.0",
            "description_tooltip": null,
            "_model_module": "@jupyter-widgets/controls",
            "layout": "IPY_MODEL_6d416f5042b943ef97804ae6da0a0797"
          }
        },
        "fe6435e15b794ae1826e26b5096ffe7d": {
          "model_module": "@jupyter-widgets/controls",
          "model_name": "FloatProgressModel",
          "model_module_version": "1.5.0",
          "state": {
            "_view_name": "ProgressView",
            "style": "IPY_MODEL_c1303e1a33ff4b67bb3a90797d708385",
            "_dom_classes": [],
            "description": "",
            "_model_name": "FloatProgressModel",
            "bar_style": "success",
            "max": 625,
            "_view_module": "@jupyter-widgets/controls",
            "_model_module_version": "1.5.0",
            "value": 625,
            "_view_count": null,
            "_view_module_version": "1.5.0",
            "orientation": "horizontal",
            "min": 0,
            "description_tooltip": null,
            "_model_module": "@jupyter-widgets/controls",
            "layout": "IPY_MODEL_222b3cba7d074fe6b2a276cd6d9a1320"
          }
        },
        "ed06a5bc1d6346669edc28d5a3ded40d": {
          "model_module": "@jupyter-widgets/controls",
          "model_name": "HTMLModel",
          "model_module_version": "1.5.0",
          "state": {
            "_view_name": "HTMLView",
            "style": "IPY_MODEL_faa3d4e8230b475db610767c8dd669bc",
            "_dom_classes": [],
            "description": "",
            "_model_name": "HTMLModel",
            "placeholder": "​",
            "_view_module": "@jupyter-widgets/controls",
            "_model_module_version": "1.5.0",
            "value": " 625/625 [00:00&lt;00:00, 15.5kB/s]",
            "_view_count": null,
            "_view_module_version": "1.5.0",
            "description_tooltip": null,
            "_model_module": "@jupyter-widgets/controls",
            "layout": "IPY_MODEL_1312c90895794cfb9128fcf5037be6b9"
          }
        },
        "8ed317147c324914ac60eebad539dece": {
          "model_module": "@jupyter-widgets/controls",
          "model_name": "DescriptionStyleModel",
          "model_module_version": "1.5.0",
          "state": {
            "_view_name": "StyleView",
            "_model_name": "DescriptionStyleModel",
            "description_width": "",
            "_view_module": "@jupyter-widgets/base",
            "_model_module_version": "1.5.0",
            "_view_count": null,
            "_view_module_version": "1.2.0",
            "_model_module": "@jupyter-widgets/controls"
          }
        },
        "6d416f5042b943ef97804ae6da0a0797": {
          "model_module": "@jupyter-widgets/base",
          "model_name": "LayoutModel",
          "model_module_version": "1.2.0",
          "state": {
            "_view_name": "LayoutView",
            "grid_template_rows": null,
            "right": null,
            "justify_content": null,
            "_view_module": "@jupyter-widgets/base",
            "overflow": null,
            "_model_module_version": "1.2.0",
            "_view_count": null,
            "flex_flow": null,
            "width": null,
            "min_width": null,
            "border": null,
            "align_items": null,
            "bottom": null,
            "_model_module": "@jupyter-widgets/base",
            "top": null,
            "grid_column": null,
            "overflow_y": null,
            "overflow_x": null,
            "grid_auto_flow": null,
            "grid_area": null,
            "grid_template_columns": null,
            "flex": null,
            "_model_name": "LayoutModel",
            "justify_items": null,
            "grid_row": null,
            "max_height": null,
            "align_content": null,
            "visibility": null,
            "align_self": null,
            "height": null,
            "min_height": null,
            "padding": null,
            "grid_auto_rows": null,
            "grid_gap": null,
            "max_width": null,
            "order": null,
            "_view_module_version": "1.2.0",
            "grid_template_areas": null,
            "object_position": null,
            "object_fit": null,
            "grid_auto_columns": null,
            "margin": null,
            "display": null,
            "left": null
          }
        },
        "c1303e1a33ff4b67bb3a90797d708385": {
          "model_module": "@jupyter-widgets/controls",
          "model_name": "ProgressStyleModel",
          "model_module_version": "1.5.0",
          "state": {
            "_view_name": "StyleView",
            "_model_name": "ProgressStyleModel",
            "description_width": "",
            "_view_module": "@jupyter-widgets/base",
            "_model_module_version": "1.5.0",
            "_view_count": null,
            "_view_module_version": "1.2.0",
            "bar_color": null,
            "_model_module": "@jupyter-widgets/controls"
          }
        },
        "222b3cba7d074fe6b2a276cd6d9a1320": {
          "model_module": "@jupyter-widgets/base",
          "model_name": "LayoutModel",
          "model_module_version": "1.2.0",
          "state": {
            "_view_name": "LayoutView",
            "grid_template_rows": null,
            "right": null,
            "justify_content": null,
            "_view_module": "@jupyter-widgets/base",
            "overflow": null,
            "_model_module_version": "1.2.0",
            "_view_count": null,
            "flex_flow": null,
            "width": null,
            "min_width": null,
            "border": null,
            "align_items": null,
            "bottom": null,
            "_model_module": "@jupyter-widgets/base",
            "top": null,
            "grid_column": null,
            "overflow_y": null,
            "overflow_x": null,
            "grid_auto_flow": null,
            "grid_area": null,
            "grid_template_columns": null,
            "flex": null,
            "_model_name": "LayoutModel",
            "justify_items": null,
            "grid_row": null,
            "max_height": null,
            "align_content": null,
            "visibility": null,
            "align_self": null,
            "height": null,
            "min_height": null,
            "padding": null,
            "grid_auto_rows": null,
            "grid_gap": null,
            "max_width": null,
            "order": null,
            "_view_module_version": "1.2.0",
            "grid_template_areas": null,
            "object_position": null,
            "object_fit": null,
            "grid_auto_columns": null,
            "margin": null,
            "display": null,
            "left": null
          }
        },
        "faa3d4e8230b475db610767c8dd669bc": {
          "model_module": "@jupyter-widgets/controls",
          "model_name": "DescriptionStyleModel",
          "model_module_version": "1.5.0",
          "state": {
            "_view_name": "StyleView",
            "_model_name": "DescriptionStyleModel",
            "description_width": "",
            "_view_module": "@jupyter-widgets/base",
            "_model_module_version": "1.5.0",
            "_view_count": null,
            "_view_module_version": "1.2.0",
            "_model_module": "@jupyter-widgets/controls"
          }
        },
        "1312c90895794cfb9128fcf5037be6b9": {
          "model_module": "@jupyter-widgets/base",
          "model_name": "LayoutModel",
          "model_module_version": "1.2.0",
          "state": {
            "_view_name": "LayoutView",
            "grid_template_rows": null,
            "right": null,
            "justify_content": null,
            "_view_module": "@jupyter-widgets/base",
            "overflow": null,
            "_model_module_version": "1.2.0",
            "_view_count": null,
            "flex_flow": null,
            "width": null,
            "min_width": null,
            "border": null,
            "align_items": null,
            "bottom": null,
            "_model_module": "@jupyter-widgets/base",
            "top": null,
            "grid_column": null,
            "overflow_y": null,
            "overflow_x": null,
            "grid_auto_flow": null,
            "grid_area": null,
            "grid_template_columns": null,
            "flex": null,
            "_model_name": "LayoutModel",
            "justify_items": null,
            "grid_row": null,
            "max_height": null,
            "align_content": null,
            "visibility": null,
            "align_self": null,
            "height": null,
            "min_height": null,
            "padding": null,
            "grid_auto_rows": null,
            "grid_gap": null,
            "max_width": null,
            "order": null,
            "_view_module_version": "1.2.0",
            "grid_template_areas": null,
            "object_position": null,
            "object_fit": null,
            "grid_auto_columns": null,
            "margin": null,
            "display": null,
            "left": null
          }
        },
        "e8ac9e75f3954e4a8b5fd5a52b259a79": {
          "model_module": "@jupyter-widgets/controls",
          "model_name": "HBoxModel",
          "model_module_version": "1.5.0",
          "state": {
            "_view_name": "HBoxView",
            "_dom_classes": [],
            "_model_name": "HBoxModel",
            "_view_module": "@jupyter-widgets/controls",
            "_model_module_version": "1.5.0",
            "_view_count": null,
            "_view_module_version": "1.5.0",
            "box_style": "",
            "layout": "IPY_MODEL_f40b48e93747412d8f6d4eed403d1c0d",
            "_model_module": "@jupyter-widgets/controls",
            "children": [
              "IPY_MODEL_c4038f5122c24602b769cae9ff2de8df",
              "IPY_MODEL_fa38f88c6f664308a02f003be4bfa2a7",
              "IPY_MODEL_ba6d222b2dfd40e5a4fa9ef60fca453a"
            ]
          }
        },
        "f40b48e93747412d8f6d4eed403d1c0d": {
          "model_module": "@jupyter-widgets/base",
          "model_name": "LayoutModel",
          "model_module_version": "1.2.0",
          "state": {
            "_view_name": "LayoutView",
            "grid_template_rows": null,
            "right": null,
            "justify_content": null,
            "_view_module": "@jupyter-widgets/base",
            "overflow": null,
            "_model_module_version": "1.2.0",
            "_view_count": null,
            "flex_flow": null,
            "width": null,
            "min_width": null,
            "border": null,
            "align_items": null,
            "bottom": null,
            "_model_module": "@jupyter-widgets/base",
            "top": null,
            "grid_column": null,
            "overflow_y": null,
            "overflow_x": null,
            "grid_auto_flow": null,
            "grid_area": null,
            "grid_template_columns": null,
            "flex": null,
            "_model_name": "LayoutModel",
            "justify_items": null,
            "grid_row": null,
            "max_height": null,
            "align_content": null,
            "visibility": null,
            "align_self": null,
            "height": null,
            "min_height": null,
            "padding": null,
            "grid_auto_rows": null,
            "grid_gap": null,
            "max_width": null,
            "order": null,
            "_view_module_version": "1.2.0",
            "grid_template_areas": null,
            "object_position": null,
            "object_fit": null,
            "grid_auto_columns": null,
            "margin": null,
            "display": null,
            "left": null
          }
        },
        "c4038f5122c24602b769cae9ff2de8df": {
          "model_module": "@jupyter-widgets/controls",
          "model_name": "HTMLModel",
          "model_module_version": "1.5.0",
          "state": {
            "_view_name": "HTMLView",
            "style": "IPY_MODEL_d1ca6a6ab7a049df99dba8049be7e80e",
            "_dom_classes": [],
            "description": "",
            "_model_name": "HTMLModel",
            "placeholder": "​",
            "_view_module": "@jupyter-widgets/controls",
            "_model_module_version": "1.5.0",
            "value": "Downloading: 100%",
            "_view_count": null,
            "_view_module_version": "1.5.0",
            "description_tooltip": null,
            "_model_module": "@jupyter-widgets/controls",
            "layout": "IPY_MODEL_bac2f06dd2944bc48b6acf0e0cba0572"
          }
        },
        "fa38f88c6f664308a02f003be4bfa2a7": {
          "model_module": "@jupyter-widgets/controls",
          "model_name": "FloatProgressModel",
          "model_module_version": "1.5.0",
          "state": {
            "_view_name": "ProgressView",
            "style": "IPY_MODEL_cb341a7cd17e4627b1ff3a6b5fbcd6a9",
            "_dom_classes": [],
            "description": "",
            "_model_name": "FloatProgressModel",
            "bar_style": "success",
            "max": 995526,
            "_view_module": "@jupyter-widgets/controls",
            "_model_module_version": "1.5.0",
            "value": 995526,
            "_view_count": null,
            "_view_module_version": "1.5.0",
            "orientation": "horizontal",
            "min": 0,
            "description_tooltip": null,
            "_model_module": "@jupyter-widgets/controls",
            "layout": "IPY_MODEL_a7b750a63c7d44a790bfa1f2885eb6a6"
          }
        },
        "ba6d222b2dfd40e5a4fa9ef60fca453a": {
          "model_module": "@jupyter-widgets/controls",
          "model_name": "HTMLModel",
          "model_module_version": "1.5.0",
          "state": {
            "_view_name": "HTMLView",
            "style": "IPY_MODEL_aa7f410e7faa47d6a8d5f0dffc9abada",
            "_dom_classes": [],
            "description": "",
            "_model_name": "HTMLModel",
            "placeholder": "​",
            "_view_module": "@jupyter-widgets/controls",
            "_model_module_version": "1.5.0",
            "value": " 996k/996k [00:00&lt;00:00, 779kB/s]",
            "_view_count": null,
            "_view_module_version": "1.5.0",
            "description_tooltip": null,
            "_model_module": "@jupyter-widgets/controls",
            "layout": "IPY_MODEL_50d68daa1af24ff29181b6bd8c00de93"
          }
        },
        "d1ca6a6ab7a049df99dba8049be7e80e": {
          "model_module": "@jupyter-widgets/controls",
          "model_name": "DescriptionStyleModel",
          "model_module_version": "1.5.0",
          "state": {
            "_view_name": "StyleView",
            "_model_name": "DescriptionStyleModel",
            "description_width": "",
            "_view_module": "@jupyter-widgets/base",
            "_model_module_version": "1.5.0",
            "_view_count": null,
            "_view_module_version": "1.2.0",
            "_model_module": "@jupyter-widgets/controls"
          }
        },
        "bac2f06dd2944bc48b6acf0e0cba0572": {
          "model_module": "@jupyter-widgets/base",
          "model_name": "LayoutModel",
          "model_module_version": "1.2.0",
          "state": {
            "_view_name": "LayoutView",
            "grid_template_rows": null,
            "right": null,
            "justify_content": null,
            "_view_module": "@jupyter-widgets/base",
            "overflow": null,
            "_model_module_version": "1.2.0",
            "_view_count": null,
            "flex_flow": null,
            "width": null,
            "min_width": null,
            "border": null,
            "align_items": null,
            "bottom": null,
            "_model_module": "@jupyter-widgets/base",
            "top": null,
            "grid_column": null,
            "overflow_y": null,
            "overflow_x": null,
            "grid_auto_flow": null,
            "grid_area": null,
            "grid_template_columns": null,
            "flex": null,
            "_model_name": "LayoutModel",
            "justify_items": null,
            "grid_row": null,
            "max_height": null,
            "align_content": null,
            "visibility": null,
            "align_self": null,
            "height": null,
            "min_height": null,
            "padding": null,
            "grid_auto_rows": null,
            "grid_gap": null,
            "max_width": null,
            "order": null,
            "_view_module_version": "1.2.0",
            "grid_template_areas": null,
            "object_position": null,
            "object_fit": null,
            "grid_auto_columns": null,
            "margin": null,
            "display": null,
            "left": null
          }
        },
        "cb341a7cd17e4627b1ff3a6b5fbcd6a9": {
          "model_module": "@jupyter-widgets/controls",
          "model_name": "ProgressStyleModel",
          "model_module_version": "1.5.0",
          "state": {
            "_view_name": "StyleView",
            "_model_name": "ProgressStyleModel",
            "description_width": "",
            "_view_module": "@jupyter-widgets/base",
            "_model_module_version": "1.5.0",
            "_view_count": null,
            "_view_module_version": "1.2.0",
            "bar_color": null,
            "_model_module": "@jupyter-widgets/controls"
          }
        },
        "a7b750a63c7d44a790bfa1f2885eb6a6": {
          "model_module": "@jupyter-widgets/base",
          "model_name": "LayoutModel",
          "model_module_version": "1.2.0",
          "state": {
            "_view_name": "LayoutView",
            "grid_template_rows": null,
            "right": null,
            "justify_content": null,
            "_view_module": "@jupyter-widgets/base",
            "overflow": null,
            "_model_module_version": "1.2.0",
            "_view_count": null,
            "flex_flow": null,
            "width": null,
            "min_width": null,
            "border": null,
            "align_items": null,
            "bottom": null,
            "_model_module": "@jupyter-widgets/base",
            "top": null,
            "grid_column": null,
            "overflow_y": null,
            "overflow_x": null,
            "grid_auto_flow": null,
            "grid_area": null,
            "grid_template_columns": null,
            "flex": null,
            "_model_name": "LayoutModel",
            "justify_items": null,
            "grid_row": null,
            "max_height": null,
            "align_content": null,
            "visibility": null,
            "align_self": null,
            "height": null,
            "min_height": null,
            "padding": null,
            "grid_auto_rows": null,
            "grid_gap": null,
            "max_width": null,
            "order": null,
            "_view_module_version": "1.2.0",
            "grid_template_areas": null,
            "object_position": null,
            "object_fit": null,
            "grid_auto_columns": null,
            "margin": null,
            "display": null,
            "left": null
          }
        },
        "aa7f410e7faa47d6a8d5f0dffc9abada": {
          "model_module": "@jupyter-widgets/controls",
          "model_name": "DescriptionStyleModel",
          "model_module_version": "1.5.0",
          "state": {
            "_view_name": "StyleView",
            "_model_name": "DescriptionStyleModel",
            "description_width": "",
            "_view_module": "@jupyter-widgets/base",
            "_model_module_version": "1.5.0",
            "_view_count": null,
            "_view_module_version": "1.2.0",
            "_model_module": "@jupyter-widgets/controls"
          }
        },
        "50d68daa1af24ff29181b6bd8c00de93": {
          "model_module": "@jupyter-widgets/base",
          "model_name": "LayoutModel",
          "model_module_version": "1.2.0",
          "state": {
            "_view_name": "LayoutView",
            "grid_template_rows": null,
            "right": null,
            "justify_content": null,
            "_view_module": "@jupyter-widgets/base",
            "overflow": null,
            "_model_module_version": "1.2.0",
            "_view_count": null,
            "flex_flow": null,
            "width": null,
            "min_width": null,
            "border": null,
            "align_items": null,
            "bottom": null,
            "_model_module": "@jupyter-widgets/base",
            "top": null,
            "grid_column": null,
            "overflow_y": null,
            "overflow_x": null,
            "grid_auto_flow": null,
            "grid_area": null,
            "grid_template_columns": null,
            "flex": null,
            "_model_name": "LayoutModel",
            "justify_items": null,
            "grid_row": null,
            "max_height": null,
            "align_content": null,
            "visibility": null,
            "align_self": null,
            "height": null,
            "min_height": null,
            "padding": null,
            "grid_auto_rows": null,
            "grid_gap": null,
            "max_width": null,
            "order": null,
            "_view_module_version": "1.2.0",
            "grid_template_areas": null,
            "object_position": null,
            "object_fit": null,
            "grid_auto_columns": null,
            "margin": null,
            "display": null,
            "left": null
          }
        },
        "dea6c249aa5844578f2c75461ff59ff7": {
          "model_module": "@jupyter-widgets/controls",
          "model_name": "HBoxModel",
          "model_module_version": "1.5.0",
          "state": {
            "_view_name": "HBoxView",
            "_dom_classes": [],
            "_model_name": "HBoxModel",
            "_view_module": "@jupyter-widgets/controls",
            "_model_module_version": "1.5.0",
            "_view_count": null,
            "_view_module_version": "1.5.0",
            "box_style": "",
            "layout": "IPY_MODEL_abf2d70110e04019854b195914404ad3",
            "_model_module": "@jupyter-widgets/controls",
            "children": [
              "IPY_MODEL_8960424a5da34f278571759f01dd5407",
              "IPY_MODEL_47715b3c35274cf2943c392b22df9d24",
              "IPY_MODEL_e1e5216233734ebabf9aa3f6ab12ecae"
            ]
          }
        },
        "abf2d70110e04019854b195914404ad3": {
          "model_module": "@jupyter-widgets/base",
          "model_name": "LayoutModel",
          "model_module_version": "1.2.0",
          "state": {
            "_view_name": "LayoutView",
            "grid_template_rows": null,
            "right": null,
            "justify_content": null,
            "_view_module": "@jupyter-widgets/base",
            "overflow": null,
            "_model_module_version": "1.2.0",
            "_view_count": null,
            "flex_flow": null,
            "width": null,
            "min_width": null,
            "border": null,
            "align_items": null,
            "bottom": null,
            "_model_module": "@jupyter-widgets/base",
            "top": null,
            "grid_column": null,
            "overflow_y": null,
            "overflow_x": null,
            "grid_auto_flow": null,
            "grid_area": null,
            "grid_template_columns": null,
            "flex": null,
            "_model_name": "LayoutModel",
            "justify_items": null,
            "grid_row": null,
            "max_height": null,
            "align_content": null,
            "visibility": null,
            "align_self": null,
            "height": null,
            "min_height": null,
            "padding": null,
            "grid_auto_rows": null,
            "grid_gap": null,
            "max_width": null,
            "order": null,
            "_view_module_version": "1.2.0",
            "grid_template_areas": null,
            "object_position": null,
            "object_fit": null,
            "grid_auto_columns": null,
            "margin": null,
            "display": null,
            "left": null
          }
        },
        "8960424a5da34f278571759f01dd5407": {
          "model_module": "@jupyter-widgets/controls",
          "model_name": "HTMLModel",
          "model_module_version": "1.5.0",
          "state": {
            "_view_name": "HTMLView",
            "style": "IPY_MODEL_e184043d489547f2b94ad54362efa675",
            "_dom_classes": [],
            "description": "",
            "_model_name": "HTMLModel",
            "placeholder": "​",
            "_view_module": "@jupyter-widgets/controls",
            "_model_module_version": "1.5.0",
            "value": "Downloading: 100%",
            "_view_count": null,
            "_view_module_version": "1.5.0",
            "description_tooltip": null,
            "_model_module": "@jupyter-widgets/controls",
            "layout": "IPY_MODEL_796f2790f0f548c5b866ed855a8784ea"
          }
        },
        "47715b3c35274cf2943c392b22df9d24": {
          "model_module": "@jupyter-widgets/controls",
          "model_name": "FloatProgressModel",
          "model_module_version": "1.5.0",
          "state": {
            "_view_name": "ProgressView",
            "style": "IPY_MODEL_626bd1ce68c24b4c9ac480babd7b4185",
            "_dom_classes": [],
            "description": "",
            "_model_name": "FloatProgressModel",
            "bar_style": "success",
            "max": 1961828,
            "_view_module": "@jupyter-widgets/controls",
            "_model_module_version": "1.5.0",
            "value": 1961828,
            "_view_count": null,
            "_view_module_version": "1.5.0",
            "orientation": "horizontal",
            "min": 0,
            "description_tooltip": null,
            "_model_module": "@jupyter-widgets/controls",
            "layout": "IPY_MODEL_b5a5a3d5d230499f9e907873447ccad5"
          }
        },
        "e1e5216233734ebabf9aa3f6ab12ecae": {
          "model_module": "@jupyter-widgets/controls",
          "model_name": "HTMLModel",
          "model_module_version": "1.5.0",
          "state": {
            "_view_name": "HTMLView",
            "style": "IPY_MODEL_c520bfc66c4847d29c1d1be96b94ef36",
            "_dom_classes": [],
            "description": "",
            "_model_name": "HTMLModel",
            "placeholder": "​",
            "_view_module": "@jupyter-widgets/controls",
            "_model_module_version": "1.5.0",
            "value": " 1.96M/1.96M [00:00&lt;00:00, 3.20MB/s]",
            "_view_count": null,
            "_view_module_version": "1.5.0",
            "description_tooltip": null,
            "_model_module": "@jupyter-widgets/controls",
            "layout": "IPY_MODEL_5414c8d6b2f445d0aee2128567b32264"
          }
        },
        "e184043d489547f2b94ad54362efa675": {
          "model_module": "@jupyter-widgets/controls",
          "model_name": "DescriptionStyleModel",
          "model_module_version": "1.5.0",
          "state": {
            "_view_name": "StyleView",
            "_model_name": "DescriptionStyleModel",
            "description_width": "",
            "_view_module": "@jupyter-widgets/base",
            "_model_module_version": "1.5.0",
            "_view_count": null,
            "_view_module_version": "1.2.0",
            "_model_module": "@jupyter-widgets/controls"
          }
        },
        "796f2790f0f548c5b866ed855a8784ea": {
          "model_module": "@jupyter-widgets/base",
          "model_name": "LayoutModel",
          "model_module_version": "1.2.0",
          "state": {
            "_view_name": "LayoutView",
            "grid_template_rows": null,
            "right": null,
            "justify_content": null,
            "_view_module": "@jupyter-widgets/base",
            "overflow": null,
            "_model_module_version": "1.2.0",
            "_view_count": null,
            "flex_flow": null,
            "width": null,
            "min_width": null,
            "border": null,
            "align_items": null,
            "bottom": null,
            "_model_module": "@jupyter-widgets/base",
            "top": null,
            "grid_column": null,
            "overflow_y": null,
            "overflow_x": null,
            "grid_auto_flow": null,
            "grid_area": null,
            "grid_template_columns": null,
            "flex": null,
            "_model_name": "LayoutModel",
            "justify_items": null,
            "grid_row": null,
            "max_height": null,
            "align_content": null,
            "visibility": null,
            "align_self": null,
            "height": null,
            "min_height": null,
            "padding": null,
            "grid_auto_rows": null,
            "grid_gap": null,
            "max_width": null,
            "order": null,
            "_view_module_version": "1.2.0",
            "grid_template_areas": null,
            "object_position": null,
            "object_fit": null,
            "grid_auto_columns": null,
            "margin": null,
            "display": null,
            "left": null
          }
        },
        "626bd1ce68c24b4c9ac480babd7b4185": {
          "model_module": "@jupyter-widgets/controls",
          "model_name": "ProgressStyleModel",
          "model_module_version": "1.5.0",
          "state": {
            "_view_name": "StyleView",
            "_model_name": "ProgressStyleModel",
            "description_width": "",
            "_view_module": "@jupyter-widgets/base",
            "_model_module_version": "1.5.0",
            "_view_count": null,
            "_view_module_version": "1.2.0",
            "bar_color": null,
            "_model_module": "@jupyter-widgets/controls"
          }
        },
        "b5a5a3d5d230499f9e907873447ccad5": {
          "model_module": "@jupyter-widgets/base",
          "model_name": "LayoutModel",
          "model_module_version": "1.2.0",
          "state": {
            "_view_name": "LayoutView",
            "grid_template_rows": null,
            "right": null,
            "justify_content": null,
            "_view_module": "@jupyter-widgets/base",
            "overflow": null,
            "_model_module_version": "1.2.0",
            "_view_count": null,
            "flex_flow": null,
            "width": null,
            "min_width": null,
            "border": null,
            "align_items": null,
            "bottom": null,
            "_model_module": "@jupyter-widgets/base",
            "top": null,
            "grid_column": null,
            "overflow_y": null,
            "overflow_x": null,
            "grid_auto_flow": null,
            "grid_area": null,
            "grid_template_columns": null,
            "flex": null,
            "_model_name": "LayoutModel",
            "justify_items": null,
            "grid_row": null,
            "max_height": null,
            "align_content": null,
            "visibility": null,
            "align_self": null,
            "height": null,
            "min_height": null,
            "padding": null,
            "grid_auto_rows": null,
            "grid_gap": null,
            "max_width": null,
            "order": null,
            "_view_module_version": "1.2.0",
            "grid_template_areas": null,
            "object_position": null,
            "object_fit": null,
            "grid_auto_columns": null,
            "margin": null,
            "display": null,
            "left": null
          }
        },
        "c520bfc66c4847d29c1d1be96b94ef36": {
          "model_module": "@jupyter-widgets/controls",
          "model_name": "DescriptionStyleModel",
          "model_module_version": "1.5.0",
          "state": {
            "_view_name": "StyleView",
            "_model_name": "DescriptionStyleModel",
            "description_width": "",
            "_view_module": "@jupyter-widgets/base",
            "_model_module_version": "1.5.0",
            "_view_count": null,
            "_view_module_version": "1.2.0",
            "_model_module": "@jupyter-widgets/controls"
          }
        },
        "5414c8d6b2f445d0aee2128567b32264": {
          "model_module": "@jupyter-widgets/base",
          "model_name": "LayoutModel",
          "model_module_version": "1.2.0",
          "state": {
            "_view_name": "LayoutView",
            "grid_template_rows": null,
            "right": null,
            "justify_content": null,
            "_view_module": "@jupyter-widgets/base",
            "overflow": null,
            "_model_module_version": "1.2.0",
            "_view_count": null,
            "flex_flow": null,
            "width": null,
            "min_width": null,
            "border": null,
            "align_items": null,
            "bottom": null,
            "_model_module": "@jupyter-widgets/base",
            "top": null,
            "grid_column": null,
            "overflow_y": null,
            "overflow_x": null,
            "grid_auto_flow": null,
            "grid_area": null,
            "grid_template_columns": null,
            "flex": null,
            "_model_name": "LayoutModel",
            "justify_items": null,
            "grid_row": null,
            "max_height": null,
            "align_content": null,
            "visibility": null,
            "align_self": null,
            "height": null,
            "min_height": null,
            "padding": null,
            "grid_auto_rows": null,
            "grid_gap": null,
            "max_width": null,
            "order": null,
            "_view_module_version": "1.2.0",
            "grid_template_areas": null,
            "object_position": null,
            "object_fit": null,
            "grid_auto_columns": null,
            "margin": null,
            "display": null,
            "left": null
          }
        },
        "5b1bb697d49f4437a83eafd1fe7db4dc": {
          "model_module": "@jupyter-widgets/controls",
          "model_name": "HBoxModel",
          "model_module_version": "1.5.0",
          "state": {
            "_view_name": "HBoxView",
            "_dom_classes": [],
            "_model_name": "HBoxModel",
            "_view_module": "@jupyter-widgets/controls",
            "_model_module_version": "1.5.0",
            "_view_count": null,
            "_view_module_version": "1.5.0",
            "box_style": "",
            "layout": "IPY_MODEL_49378cd5aec144eea97da0699d7da2c4",
            "_model_module": "@jupyter-widgets/controls",
            "children": [
              "IPY_MODEL_5d4b3c0d86734ad48396425f7fd9e2c8",
              "IPY_MODEL_cd6a67c2735d4a97899381f8a4f08d76",
              "IPY_MODEL_2d0eb023ede34c1895bf3e4148180807"
            ]
          }
        },
        "49378cd5aec144eea97da0699d7da2c4": {
          "model_module": "@jupyter-widgets/base",
          "model_name": "LayoutModel",
          "model_module_version": "1.2.0",
          "state": {
            "_view_name": "LayoutView",
            "grid_template_rows": null,
            "right": null,
            "justify_content": null,
            "_view_module": "@jupyter-widgets/base",
            "overflow": null,
            "_model_module_version": "1.2.0",
            "_view_count": null,
            "flex_flow": null,
            "width": null,
            "min_width": null,
            "border": null,
            "align_items": null,
            "bottom": null,
            "_model_module": "@jupyter-widgets/base",
            "top": null,
            "grid_column": null,
            "overflow_y": null,
            "overflow_x": null,
            "grid_auto_flow": null,
            "grid_area": null,
            "grid_template_columns": null,
            "flex": null,
            "_model_name": "LayoutModel",
            "justify_items": null,
            "grid_row": null,
            "max_height": null,
            "align_content": null,
            "visibility": null,
            "align_self": null,
            "height": null,
            "min_height": null,
            "padding": null,
            "grid_auto_rows": null,
            "grid_gap": null,
            "max_width": null,
            "order": null,
            "_view_module_version": "1.2.0",
            "grid_template_areas": null,
            "object_position": null,
            "object_fit": null,
            "grid_auto_columns": null,
            "margin": null,
            "display": null,
            "left": null
          }
        },
        "5d4b3c0d86734ad48396425f7fd9e2c8": {
          "model_module": "@jupyter-widgets/controls",
          "model_name": "HTMLModel",
          "model_module_version": "1.5.0",
          "state": {
            "_view_name": "HTMLView",
            "style": "IPY_MODEL_b1f0d01e12874fa6923bc25591f4a3bc",
            "_dom_classes": [],
            "description": "",
            "_model_name": "HTMLModel",
            "placeholder": "​",
            "_view_module": "@jupyter-widgets/controls",
            "_model_module_version": "1.5.0",
            "value": "Downloading: 100%",
            "_view_count": null,
            "_view_module_version": "1.5.0",
            "description_tooltip": null,
            "_model_module": "@jupyter-widgets/controls",
            "layout": "IPY_MODEL_e1315bf967b544b9875ddd3b70cdb1bb"
          }
        },
        "cd6a67c2735d4a97899381f8a4f08d76": {
          "model_module": "@jupyter-widgets/controls",
          "model_name": "FloatProgressModel",
          "model_module_version": "1.5.0",
          "state": {
            "_view_name": "ProgressView",
            "style": "IPY_MODEL_dbf59b63e5a643379d6031b14b9db865",
            "_dom_classes": [],
            "description": "",
            "_model_name": "FloatProgressModel",
            "bar_style": "success",
            "max": 714314041,
            "_view_module": "@jupyter-widgets/controls",
            "_model_module_version": "1.5.0",
            "value": 714314041,
            "_view_count": null,
            "_view_module_version": "1.5.0",
            "orientation": "horizontal",
            "min": 0,
            "description_tooltip": null,
            "_model_module": "@jupyter-widgets/controls",
            "layout": "IPY_MODEL_f37a8e52bb194b29bb407df701f2a5b5"
          }
        },
        "2d0eb023ede34c1895bf3e4148180807": {
          "model_module": "@jupyter-widgets/controls",
          "model_name": "HTMLModel",
          "model_module_version": "1.5.0",
          "state": {
            "_view_name": "HTMLView",
            "style": "IPY_MODEL_a936c9d439d4461c92391cb6e0df4cc6",
            "_dom_classes": [],
            "description": "",
            "_model_name": "HTMLModel",
            "placeholder": "​",
            "_view_module": "@jupyter-widgets/controls",
            "_model_module_version": "1.5.0",
            "value": " 714M/714M [00:20&lt;00:00, 35.8MB/s]",
            "_view_count": null,
            "_view_module_version": "1.5.0",
            "description_tooltip": null,
            "_model_module": "@jupyter-widgets/controls",
            "layout": "IPY_MODEL_0153802f43c54e8cb33aa05ed0ea8fa4"
          }
        },
        "b1f0d01e12874fa6923bc25591f4a3bc": {
          "model_module": "@jupyter-widgets/controls",
          "model_name": "DescriptionStyleModel",
          "model_module_version": "1.5.0",
          "state": {
            "_view_name": "StyleView",
            "_model_name": "DescriptionStyleModel",
            "description_width": "",
            "_view_module": "@jupyter-widgets/base",
            "_model_module_version": "1.5.0",
            "_view_count": null,
            "_view_module_version": "1.2.0",
            "_model_module": "@jupyter-widgets/controls"
          }
        },
        "e1315bf967b544b9875ddd3b70cdb1bb": {
          "model_module": "@jupyter-widgets/base",
          "model_name": "LayoutModel",
          "model_module_version": "1.2.0",
          "state": {
            "_view_name": "LayoutView",
            "grid_template_rows": null,
            "right": null,
            "justify_content": null,
            "_view_module": "@jupyter-widgets/base",
            "overflow": null,
            "_model_module_version": "1.2.0",
            "_view_count": null,
            "flex_flow": null,
            "width": null,
            "min_width": null,
            "border": null,
            "align_items": null,
            "bottom": null,
            "_model_module": "@jupyter-widgets/base",
            "top": null,
            "grid_column": null,
            "overflow_y": null,
            "overflow_x": null,
            "grid_auto_flow": null,
            "grid_area": null,
            "grid_template_columns": null,
            "flex": null,
            "_model_name": "LayoutModel",
            "justify_items": null,
            "grid_row": null,
            "max_height": null,
            "align_content": null,
            "visibility": null,
            "align_self": null,
            "height": null,
            "min_height": null,
            "padding": null,
            "grid_auto_rows": null,
            "grid_gap": null,
            "max_width": null,
            "order": null,
            "_view_module_version": "1.2.0",
            "grid_template_areas": null,
            "object_position": null,
            "object_fit": null,
            "grid_auto_columns": null,
            "margin": null,
            "display": null,
            "left": null
          }
        },
        "dbf59b63e5a643379d6031b14b9db865": {
          "model_module": "@jupyter-widgets/controls",
          "model_name": "ProgressStyleModel",
          "model_module_version": "1.5.0",
          "state": {
            "_view_name": "StyleView",
            "_model_name": "ProgressStyleModel",
            "description_width": "",
            "_view_module": "@jupyter-widgets/base",
            "_model_module_version": "1.5.0",
            "_view_count": null,
            "_view_module_version": "1.2.0",
            "bar_color": null,
            "_model_module": "@jupyter-widgets/controls"
          }
        },
        "f37a8e52bb194b29bb407df701f2a5b5": {
          "model_module": "@jupyter-widgets/base",
          "model_name": "LayoutModel",
          "model_module_version": "1.2.0",
          "state": {
            "_view_name": "LayoutView",
            "grid_template_rows": null,
            "right": null,
            "justify_content": null,
            "_view_module": "@jupyter-widgets/base",
            "overflow": null,
            "_model_module_version": "1.2.0",
            "_view_count": null,
            "flex_flow": null,
            "width": null,
            "min_width": null,
            "border": null,
            "align_items": null,
            "bottom": null,
            "_model_module": "@jupyter-widgets/base",
            "top": null,
            "grid_column": null,
            "overflow_y": null,
            "overflow_x": null,
            "grid_auto_flow": null,
            "grid_area": null,
            "grid_template_columns": null,
            "flex": null,
            "_model_name": "LayoutModel",
            "justify_items": null,
            "grid_row": null,
            "max_height": null,
            "align_content": null,
            "visibility": null,
            "align_self": null,
            "height": null,
            "min_height": null,
            "padding": null,
            "grid_auto_rows": null,
            "grid_gap": null,
            "max_width": null,
            "order": null,
            "_view_module_version": "1.2.0",
            "grid_template_areas": null,
            "object_position": null,
            "object_fit": null,
            "grid_auto_columns": null,
            "margin": null,
            "display": null,
            "left": null
          }
        },
        "a936c9d439d4461c92391cb6e0df4cc6": {
          "model_module": "@jupyter-widgets/controls",
          "model_name": "DescriptionStyleModel",
          "model_module_version": "1.5.0",
          "state": {
            "_view_name": "StyleView",
            "_model_name": "DescriptionStyleModel",
            "description_width": "",
            "_view_module": "@jupyter-widgets/base",
            "_model_module_version": "1.5.0",
            "_view_count": null,
            "_view_module_version": "1.2.0",
            "_model_module": "@jupyter-widgets/controls"
          }
        },
        "0153802f43c54e8cb33aa05ed0ea8fa4": {
          "model_module": "@jupyter-widgets/base",
          "model_name": "LayoutModel",
          "model_module_version": "1.2.0",
          "state": {
            "_view_name": "LayoutView",
            "grid_template_rows": null,
            "right": null,
            "justify_content": null,
            "_view_module": "@jupyter-widgets/base",
            "overflow": null,
            "_model_module_version": "1.2.0",
            "_view_count": null,
            "flex_flow": null,
            "width": null,
            "min_width": null,
            "border": null,
            "align_items": null,
            "bottom": null,
            "_model_module": "@jupyter-widgets/base",
            "top": null,
            "grid_column": null,
            "overflow_y": null,
            "overflow_x": null,
            "grid_auto_flow": null,
            "grid_area": null,
            "grid_template_columns": null,
            "flex": null,
            "_model_name": "LayoutModel",
            "justify_items": null,
            "grid_row": null,
            "max_height": null,
            "align_content": null,
            "visibility": null,
            "align_self": null,
            "height": null,
            "min_height": null,
            "padding": null,
            "grid_auto_rows": null,
            "grid_gap": null,
            "max_width": null,
            "order": null,
            "_view_module_version": "1.2.0",
            "grid_template_areas": null,
            "object_position": null,
            "object_fit": null,
            "grid_auto_columns": null,
            "margin": null,
            "display": null,
            "left": null
          }
        }
      }
    }
  },
  "cells": [
    {
      "cell_type": "markdown",
      "metadata": {
        "id": "view-in-github",
        "colab_type": "text"
      },
      "source": [
        "<a href=\"https://colab.research.google.com/github/jsdysw/Boostcamp-AI-Tech-Product-Serving/blob/main/week9/(6%E1%84%80%E1%85%A1%E1%86%BC_%E1%84%89%E1%85%B5%E1%86%AF%E1%84%89%E1%85%B3%E1%86%B8_3)_BERT_%E1%84%80%E1%85%B5%E1%84%87%E1%85%A1%E1%86%AB_%E1%84%83%E1%85%AE_%E1%84%86%E1%85%AE%E1%86%AB%E1%84%8C%E1%85%A1%E1%86%BC_%E1%84%80%E1%85%AA%E1%86%AB%E1%84%80%E1%85%A8_%E1%84%87%E1%85%AE%E1%86%AB%E1%84%85%E1%85%B2_%E1%84%86%E1%85%A9%E1%84%83%E1%85%A6%E1%86%AF%E1%84%92%E1%85%A1%E1%86%A8%E1%84%89%E1%85%B3%E1%86%B8_BERT_IRQA_%E1%84%8E%E1%85%A2%E1%86%BA%E1%84%87%E1%85%A9%E1%86%BA_%E1%84%89%E1%85%B5%E1%86%AF%E1%84%89%E1%85%B3%E1%86%B8.ipynb\" target=\"_parent\"><img src=\"https://colab.research.google.com/assets/colab-badge.svg\" alt=\"Open In Colab\"/></a>"
      ]
    },
    {
      "cell_type": "markdown",
      "metadata": {
        "id": "bF_mxF623B9w"
      },
      "source": [
        "# BERT IRQA 기반의 챗봇 실습\n",
        "\n",
        "> 작성자      \n",
        "```\n",
        "* 김성현 (bananaband657@gmail.com)  \n",
        "1기 멘토\n",
        "김바다 (qkek983@gmail.com)\n",
        "박상희 (parksanghee0103@gmail.com)  \n",
        "이정우 (jungwoo.l2.rs@gmail.com)\n",
        "2기 멘토\n",
        "박상희 (parksanghee0103@gmail.com)  \n",
        "이정우 (jungwoo.l2.rs@gmail.com)\n",
        "이녕우 (leenw2@gmail.com)\n",
        "박채훈 (qkrcogns2222@gmail.com)\n",
        "3, 4, 5, 6기 멘토\n",
        "이녕우 (leenw2@gmail.com)\n",
        "박채훈 (qkrcogns2222@gmail.com)\n",
        "```\n",
        "[CC BY-NC-ND](https://creativecommons.org/licenses/by-nc-nd/2.0/kr/)"
      ]
    },
    {
      "cell_type": "markdown",
      "source": [
        "###**콘텐츠 라이선스**\n",
        "\n",
        "<font color='red'><b>**WARNING**</b></font> : **본 교육 콘텐츠의 지식재산권은 재단법인 네이버커넥트에 귀속됩니다. 본 콘텐츠를 어떠한 경로로든 외부로 유출 및 수정하는 행위를 엄격히 금합니다.** 다만, 비영리적 교육 및 연구활동에 한정되어 사용할 수 있으나 재단의 허락을 받아야 합니다. 이를 위반하는 경우, 관련 법률에 따라 책임을 질 수 있습니다."
      ],
      "metadata": {
        "id": "HhcxM7JD8k5M"
      }
    },
    {
      "cell_type": "markdown",
      "metadata": {
        "id": "vD0-woebk1Id"
      },
      "source": [
        "### 실습 개요\n",
        "이번에는 앞서 실습한 두 모델을 합쳐서 IRQA 기반의 챗봇을 만들어보도록 하겠습니다.\n",
        "\n",
        "### 실습 진행 목적 및 배경\n",
        "유사도 기반의 자연어처리 프레임워크의 실제 동작 과정을 자세히 살펴봅니다.\n",
        "\n",
        "### 실습 수행으로 얻어갈 수 있는 역량\n",
        "IRQA 챗봇 구현을 위한 자연어 전처리, 모델 학습 및 추론을 할 수 있습니다.\n",
        "\n",
        "### Required Package\n",
        "- transformers\n",
        "- accelerate>=0.20.1"
      ]
    },
    {
      "cell_type": "markdown",
      "source": [
        "본 실습에서는 챗봇 학습용으로 공개된 Chatbot_data_for_Korean 데이터셋을 활용하며,  [링크](https://github.com/songys/Chatbot_data)에서 받으실 수 있습니다.\n",
        "\n",
        "\n",
        "본 데이터셋은 다음의 [라이센스](https://github.com/songys/Chatbot_data/blob/master/LICENSE)를 따릅니다."
      ],
      "metadata": {
        "id": "t4PY21LgTz_F"
      }
    },
    {
      "cell_type": "code",
      "metadata": {
        "colab": {
          "base_uri": "https://localhost:8080/"
        },
        "id": "5EChyEu8k-sP",
        "outputId": "e419e61a-c23b-404d-8d24-665065ea94c2"
      },
      "source": [
        "!git clone https://github.com/songys/Chatbot_data.git"
      ],
      "execution_count": null,
      "outputs": [
        {
          "output_type": "stream",
          "text": [
            "fatal: destination path 'Chatbot_data' already exists and is not an empty directory.\n"
          ],
          "name": "stdout"
        }
      ]
    },
    {
      "cell_type": "code",
      "metadata": {
        "id": "HCeOqeJolHa5"
      },
      "source": [
        "import pandas as pd\n",
        "data = pd.read_csv('/content/Chatbot_data/ChatbotData.csv')"
      ],
      "execution_count": null,
      "outputs": []
    },
    {
      "cell_type": "code",
      "metadata": {
        "colab": {
          "base_uri": "https://localhost:8080/",
          "height": 204
        },
        "id": "RtSIxFBzlMDs",
        "outputId": "da2dbb45-04cc-47dc-b645-0d1cd69edecb"
      },
      "source": [
        "data.head()"
      ],
      "execution_count": null,
      "outputs": [
        {
          "output_type": "execute_result",
          "data": {
            "text/html": [
              "<div>\n",
              "<style scoped>\n",
              "    .dataframe tbody tr th:only-of-type {\n",
              "        vertical-align: middle;\n",
              "    }\n",
              "\n",
              "    .dataframe tbody tr th {\n",
              "        vertical-align: top;\n",
              "    }\n",
              "\n",
              "    .dataframe thead th {\n",
              "        text-align: right;\n",
              "    }\n",
              "</style>\n",
              "<table border=\"1\" class=\"dataframe\">\n",
              "  <thead>\n",
              "    <tr style=\"text-align: right;\">\n",
              "      <th></th>\n",
              "      <th>Q</th>\n",
              "      <th>A</th>\n",
              "      <th>label</th>\n",
              "    </tr>\n",
              "  </thead>\n",
              "  <tbody>\n",
              "    <tr>\n",
              "      <th>0</th>\n",
              "      <td>12시 땡!</td>\n",
              "      <td>하루가 또 가네요.</td>\n",
              "      <td>0</td>\n",
              "    </tr>\n",
              "    <tr>\n",
              "      <th>1</th>\n",
              "      <td>1지망 학교 떨어졌어</td>\n",
              "      <td>위로해 드립니다.</td>\n",
              "      <td>0</td>\n",
              "    </tr>\n",
              "    <tr>\n",
              "      <th>2</th>\n",
              "      <td>3박4일 놀러가고 싶다</td>\n",
              "      <td>여행은 언제나 좋죠.</td>\n",
              "      <td>0</td>\n",
              "    </tr>\n",
              "    <tr>\n",
              "      <th>3</th>\n",
              "      <td>3박4일 정도 놀러가고 싶다</td>\n",
              "      <td>여행은 언제나 좋죠.</td>\n",
              "      <td>0</td>\n",
              "    </tr>\n",
              "    <tr>\n",
              "      <th>4</th>\n",
              "      <td>PPL 심하네</td>\n",
              "      <td>눈살이 찌푸려지죠.</td>\n",
              "      <td>0</td>\n",
              "    </tr>\n",
              "  </tbody>\n",
              "</table>\n",
              "</div>"
            ],
            "text/plain": [
              "                 Q            A  label\n",
              "0           12시 땡!   하루가 또 가네요.      0\n",
              "1      1지망 학교 떨어졌어    위로해 드립니다.      0\n",
              "2     3박4일 놀러가고 싶다  여행은 언제나 좋죠.      0\n",
              "3  3박4일 정도 놀러가고 싶다  여행은 언제나 좋죠.      0\n",
              "4          PPL 심하네   눈살이 찌푸려지죠.      0"
            ]
          },
          "metadata": {},
          "execution_count": 5
        }
      ]
    },
    {
      "cell_type": "markdown",
      "metadata": {
        "id": "ang8bpsQlRNz"
      },
      "source": [
        "![image.png](data:image/png;base64,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)"
      ]
    },
    {
      "cell_type": "markdown",
      "metadata": {
        "id": "BWIfTjAXlYK3"
      },
      "source": [
        "위 그림과 같은 구조도를 구성하기 위해, 먼저 Top-n개 후보를 추출하는 모듈을 구성해보겠습니다."
      ]
    },
    {
      "cell_type": "markdown",
      "metadata": {
        "id": "NsJJzSdglfcT"
      },
      "source": [
        "## Top-n 추출 모듈"
      ]
    },
    {
      "cell_type": "code",
      "metadata": {
        "colab": {
          "base_uri": "https://localhost:8080/"
        },
        "id": "ui1szMaGGWgN",
        "outputId": "04953fb8-96b2-49dc-87e5-50ddf6aeebec"
      },
      "source": [
        "!pip install transformers==4.9.2\n",
        "!pip install accelerate>=0.20.1"
      ],
      "execution_count": null,
      "outputs": [
        {
          "output_type": "stream",
          "text": [
            "Collecting transformers\n",
            "  Downloading transformers-4.9.2-py3-none-any.whl (2.6 MB)\n",
            "\u001b[K     |████████████████████████████████| 2.6 MB 12.5 MB/s \n",
            "\u001b[?25hCollecting pyyaml>=5.1\n",
            "  Downloading PyYAML-5.4.1-cp37-cp37m-manylinux1_x86_64.whl (636 kB)\n",
            "\u001b[K     |████████████████████████████████| 636 kB 47.8 MB/s \n",
            "\u001b[?25hCollecting tokenizers<0.11,>=0.10.1\n",
            "  Downloading tokenizers-0.10.3-cp37-cp37m-manylinux_2_5_x86_64.manylinux1_x86_64.manylinux_2_12_x86_64.manylinux2010_x86_64.whl (3.3 MB)\n",
            "\u001b[K     |████████████████████████████████| 3.3 MB 53.7 MB/s \n",
            "\u001b[?25hRequirement already satisfied: packaging in /usr/local/lib/python3.7/dist-packages (from transformers) (21.0)\n",
            "Requirement already satisfied: regex!=2019.12.17 in /usr/local/lib/python3.7/dist-packages (from transformers) (2019.12.20)\n",
            "Requirement already satisfied: importlib-metadata in /usr/local/lib/python3.7/dist-packages (from transformers) (4.6.4)\n",
            "Requirement already satisfied: requests in /usr/local/lib/python3.7/dist-packages (from transformers) (2.23.0)\n",
            "Requirement already satisfied: numpy>=1.17 in /usr/local/lib/python3.7/dist-packages (from transformers) (1.19.5)\n",
            "Requirement already satisfied: filelock in /usr/local/lib/python3.7/dist-packages (from transformers) (3.0.12)\n",
            "Requirement already satisfied: tqdm>=4.27 in /usr/local/lib/python3.7/dist-packages (from transformers) (4.62.0)\n",
            "Collecting huggingface-hub==0.0.12\n",
            "  Downloading huggingface_hub-0.0.12-py3-none-any.whl (37 kB)\n",
            "Collecting sacremoses\n",
            "  Downloading sacremoses-0.0.45-py3-none-any.whl (895 kB)\n",
            "\u001b[K     |████████████████████████████████| 895 kB 53.9 MB/s \n",
            "\u001b[?25hRequirement already satisfied: typing-extensions in /usr/local/lib/python3.7/dist-packages (from huggingface-hub==0.0.12->transformers) (3.7.4.3)\n",
            "Requirement already satisfied: pyparsing>=2.0.2 in /usr/local/lib/python3.7/dist-packages (from packaging->transformers) (2.4.7)\n",
            "Requirement already satisfied: zipp>=0.5 in /usr/local/lib/python3.7/dist-packages (from importlib-metadata->transformers) (3.5.0)\n",
            "Requirement already satisfied: certifi>=2017.4.17 in /usr/local/lib/python3.7/dist-packages (from requests->transformers) (2021.5.30)\n",
            "Requirement already satisfied: chardet<4,>=3.0.2 in /usr/local/lib/python3.7/dist-packages (from requests->transformers) (3.0.4)\n",
            "Requirement already satisfied: urllib3!=1.25.0,!=1.25.1,<1.26,>=1.21.1 in /usr/local/lib/python3.7/dist-packages (from requests->transformers) (1.24.3)\n",
            "Requirement already satisfied: idna<3,>=2.5 in /usr/local/lib/python3.7/dist-packages (from requests->transformers) (2.10)\n",
            "Requirement already satisfied: six in /usr/local/lib/python3.7/dist-packages (from sacremoses->transformers) (1.15.0)\n",
            "Requirement already satisfied: joblib in /usr/local/lib/python3.7/dist-packages (from sacremoses->transformers) (1.0.1)\n",
            "Requirement already satisfied: click in /usr/local/lib/python3.7/dist-packages (from sacremoses->transformers) (7.1.2)\n",
            "Installing collected packages: tokenizers, sacremoses, pyyaml, huggingface-hub, transformers\n",
            "  Attempting uninstall: pyyaml\n",
            "    Found existing installation: PyYAML 3.13\n",
            "    Uninstalling PyYAML-3.13:\n",
            "      Successfully uninstalled PyYAML-3.13\n",
            "Successfully installed huggingface-hub-0.0.12 pyyaml-5.4.1 sacremoses-0.0.45 tokenizers-0.10.3 transformers-4.9.2\n"
          ],
          "name": "stdout"
        }
      ]
    },
    {
      "cell_type": "code",
      "metadata": {
        "id": "s1L78IsQGk_Y"
      },
      "source": [
        "import torch\n",
        "from transformers import AutoModel, AutoTokenizer"
      ],
      "execution_count": null,
      "outputs": []
    },
    {
      "cell_type": "code",
      "metadata": {
        "id": "vIzOUKKNHAd2"
      },
      "source": [
        "device = torch.device('cuda:0' if torch.cuda.is_available() else 'cpu')"
      ],
      "execution_count": null,
      "outputs": []
    },
    {
      "cell_type": "code",
      "metadata": {
        "colab": {
          "base_uri": "https://localhost:8080/",
          "height": 1000,
          "referenced_widgets": [
            "3bfd0af2d5134fb896c2b8fac60fffdd",
            "310c79166a91456e9de77d3351bd729a",
            "f42b55b1f49945abac1a2cc63f23915f",
            "2be71444fb444a5c8d3e27f5e7a2d375",
            "c5ad7e30373d4dc88f3ea22234094ef3",
            "a97f689db12c4b96b4cafcc3b87a1a74",
            "a49ad3d47efc4994b502edf8710cdf12",
            "c2258485bc6a465ba8d2088a7a82a6e0",
            "2c9b70fcc22b4d1d9868431be99d4d08",
            "0051cea94e82480795a63bc9b12d96e0",
            "c7a83334e0c94ffda6814e88967d5e39",
            "7da6b777ee38439e841c15594278eb51",
            "f19a29fa42af442db5d682349a47badb",
            "68be15cb3bd945afadbff142941c27c0",
            "fe6435e15b794ae1826e26b5096ffe7d",
            "ed06a5bc1d6346669edc28d5a3ded40d",
            "8ed317147c324914ac60eebad539dece",
            "6d416f5042b943ef97804ae6da0a0797",
            "c1303e1a33ff4b67bb3a90797d708385",
            "222b3cba7d074fe6b2a276cd6d9a1320",
            "faa3d4e8230b475db610767c8dd669bc",
            "1312c90895794cfb9128fcf5037be6b9",
            "e8ac9e75f3954e4a8b5fd5a52b259a79",
            "f40b48e93747412d8f6d4eed403d1c0d",
            "c4038f5122c24602b769cae9ff2de8df",
            "fa38f88c6f664308a02f003be4bfa2a7",
            "ba6d222b2dfd40e5a4fa9ef60fca453a",
            "d1ca6a6ab7a049df99dba8049be7e80e",
            "bac2f06dd2944bc48b6acf0e0cba0572",
            "cb341a7cd17e4627b1ff3a6b5fbcd6a9",
            "a7b750a63c7d44a790bfa1f2885eb6a6",
            "aa7f410e7faa47d6a8d5f0dffc9abada",
            "50d68daa1af24ff29181b6bd8c00de93",
            "dea6c249aa5844578f2c75461ff59ff7",
            "abf2d70110e04019854b195914404ad3",
            "8960424a5da34f278571759f01dd5407",
            "47715b3c35274cf2943c392b22df9d24",
            "e1e5216233734ebabf9aa3f6ab12ecae",
            "e184043d489547f2b94ad54362efa675",
            "796f2790f0f548c5b866ed855a8784ea",
            "626bd1ce68c24b4c9ac480babd7b4185",
            "b5a5a3d5d230499f9e907873447ccad5",
            "c520bfc66c4847d29c1d1be96b94ef36",
            "5414c8d6b2f445d0aee2128567b32264",
            "5b1bb697d49f4437a83eafd1fe7db4dc",
            "49378cd5aec144eea97da0699d7da2c4",
            "5d4b3c0d86734ad48396425f7fd9e2c8",
            "cd6a67c2735d4a97899381f8a4f08d76",
            "2d0eb023ede34c1895bf3e4148180807",
            "b1f0d01e12874fa6923bc25591f4a3bc",
            "e1315bf967b544b9875ddd3b70cdb1bb",
            "dbf59b63e5a643379d6031b14b9db865",
            "f37a8e52bb194b29bb407df701f2a5b5",
            "a936c9d439d4461c92391cb6e0df4cc6",
            "0153802f43c54e8cb33aa05ed0ea8fa4"
          ]
        },
        "id": "Z-RTgWyUHIy-",
        "outputId": "f7a4a704-9d3f-455c-e917-bc335db29099"
      },
      "source": [
        "MODEL_NAME = \"bert-base-multilingual-cased\"\n",
        "tokenizer = AutoTokenizer.from_pretrained(MODEL_NAME)\n",
        "model = AutoModel.from_pretrained(MODEL_NAME)\n",
        "model.to(device)"
      ],
      "execution_count": null,
      "outputs": [
        {
          "output_type": "display_data",
          "data": {
            "application/vnd.jupyter.widget-view+json": {
              "model_id": "3bfd0af2d5134fb896c2b8fac60fffdd",
              "version_minor": 0,
              "version_major": 2
            },
            "text/plain": [
              "Downloading:   0%|          | 0.00/29.0 [00:00<?, ?B/s]"
            ]
          },
          "metadata": {}
        },
        {
          "output_type": "display_data",
          "data": {
            "application/vnd.jupyter.widget-view+json": {
              "model_id": "7da6b777ee38439e841c15594278eb51",
              "version_minor": 0,
              "version_major": 2
            },
            "text/plain": [
              "Downloading:   0%|          | 0.00/625 [00:00<?, ?B/s]"
            ]
          },
          "metadata": {}
        },
        {
          "output_type": "display_data",
          "data": {
            "application/vnd.jupyter.widget-view+json": {
              "model_id": "e8ac9e75f3954e4a8b5fd5a52b259a79",
              "version_minor": 0,
              "version_major": 2
            },
            "text/plain": [
              "Downloading:   0%|          | 0.00/996k [00:00<?, ?B/s]"
            ]
          },
          "metadata": {}
        },
        {
          "output_type": "display_data",
          "data": {
            "application/vnd.jupyter.widget-view+json": {
              "model_id": "dea6c249aa5844578f2c75461ff59ff7",
              "version_minor": 0,
              "version_major": 2
            },
            "text/plain": [
              "Downloading:   0%|          | 0.00/1.96M [00:00<?, ?B/s]"
            ]
          },
          "metadata": {}
        },
        {
          "output_type": "display_data",
          "data": {
            "application/vnd.jupyter.widget-view+json": {
              "model_id": "5b1bb697d49f4437a83eafd1fe7db4dc",
              "version_minor": 0,
              "version_major": 2
            },
            "text/plain": [
              "Downloading:   0%|          | 0.00/714M [00:00<?, ?B/s]"
            ]
          },
          "metadata": {}
        },
        {
          "output_type": "stream",
          "text": [
            "Some weights of the model checkpoint at bert-base-multilingual-cased were not used when initializing BertModel: ['cls.predictions.transform.dense.weight', 'cls.predictions.transform.dense.bias', 'cls.predictions.bias', 'cls.predictions.decoder.weight', 'cls.seq_relationship.bias', 'cls.seq_relationship.weight', 'cls.predictions.transform.LayerNorm.bias', 'cls.predictions.transform.LayerNorm.weight']\n",
            "- This IS expected if you are initializing BertModel from the checkpoint of a model trained on another task or with another architecture (e.g. initializing a BertForSequenceClassification model from a BertForPreTraining model).\n",
            "- This IS NOT expected if you are initializing BertModel from the checkpoint of a model that you expect to be exactly identical (initializing a BertForSequenceClassification model from a BertForSequenceClassification model).\n"
          ],
          "name": "stderr"
        },
        {
          "output_type": "execute_result",
          "data": {
            "text/plain": [
              "BertModel(\n",
              "  (embeddings): BertEmbeddings(\n",
              "    (word_embeddings): Embedding(119547, 768, padding_idx=0)\n",
              "    (position_embeddings): Embedding(512, 768)\n",
              "    (token_type_embeddings): Embedding(2, 768)\n",
              "    (LayerNorm): LayerNorm((768,), eps=1e-12, elementwise_affine=True)\n",
              "    (dropout): Dropout(p=0.1, inplace=False)\n",
              "  )\n",
              "  (encoder): BertEncoder(\n",
              "    (layer): ModuleList(\n",
              "      (0): BertLayer(\n",
              "        (attention): BertAttention(\n",
              "          (self): BertSelfAttention(\n",
              "            (query): Linear(in_features=768, out_features=768, bias=True)\n",
              "            (key): Linear(in_features=768, out_features=768, bias=True)\n",
              "            (value): Linear(in_features=768, out_features=768, bias=True)\n",
              "            (dropout): Dropout(p=0.1, inplace=False)\n",
              "          )\n",
              "          (output): BertSelfOutput(\n",
              "            (dense): Linear(in_features=768, out_features=768, bias=True)\n",
              "            (LayerNorm): LayerNorm((768,), eps=1e-12, elementwise_affine=True)\n",
              "            (dropout): Dropout(p=0.1, inplace=False)\n",
              "          )\n",
              "        )\n",
              "        (intermediate): BertIntermediate(\n",
              "          (dense): Linear(in_features=768, out_features=3072, bias=True)\n",
              "        )\n",
              "        (output): BertOutput(\n",
              "          (dense): Linear(in_features=3072, out_features=768, bias=True)\n",
              "          (LayerNorm): LayerNorm((768,), eps=1e-12, elementwise_affine=True)\n",
              "          (dropout): Dropout(p=0.1, inplace=False)\n",
              "        )\n",
              "      )\n",
              "      (1): BertLayer(\n",
              "        (attention): BertAttention(\n",
              "          (self): BertSelfAttention(\n",
              "            (query): Linear(in_features=768, out_features=768, bias=True)\n",
              "            (key): Linear(in_features=768, out_features=768, bias=True)\n",
              "            (value): Linear(in_features=768, out_features=768, bias=True)\n",
              "            (dropout): Dropout(p=0.1, inplace=False)\n",
              "          )\n",
              "          (output): BertSelfOutput(\n",
              "            (dense): Linear(in_features=768, out_features=768, bias=True)\n",
              "            (LayerNorm): LayerNorm((768,), eps=1e-12, elementwise_affine=True)\n",
              "            (dropout): Dropout(p=0.1, inplace=False)\n",
              "          )\n",
              "        )\n",
              "        (intermediate): BertIntermediate(\n",
              "          (dense): Linear(in_features=768, out_features=3072, bias=True)\n",
              "        )\n",
              "        (output): BertOutput(\n",
              "          (dense): Linear(in_features=3072, out_features=768, bias=True)\n",
              "          (LayerNorm): LayerNorm((768,), eps=1e-12, elementwise_affine=True)\n",
              "          (dropout): Dropout(p=0.1, inplace=False)\n",
              "        )\n",
              "      )\n",
              "      (2): BertLayer(\n",
              "        (attention): BertAttention(\n",
              "          (self): BertSelfAttention(\n",
              "            (query): Linear(in_features=768, out_features=768, bias=True)\n",
              "            (key): Linear(in_features=768, out_features=768, bias=True)\n",
              "            (value): Linear(in_features=768, out_features=768, bias=True)\n",
              "            (dropout): Dropout(p=0.1, inplace=False)\n",
              "          )\n",
              "          (output): BertSelfOutput(\n",
              "            (dense): Linear(in_features=768, out_features=768, bias=True)\n",
              "            (LayerNorm): LayerNorm((768,), eps=1e-12, elementwise_affine=True)\n",
              "            (dropout): Dropout(p=0.1, inplace=False)\n",
              "          )\n",
              "        )\n",
              "        (intermediate): BertIntermediate(\n",
              "          (dense): Linear(in_features=768, out_features=3072, bias=True)\n",
              "        )\n",
              "        (output): BertOutput(\n",
              "          (dense): Linear(in_features=3072, out_features=768, bias=True)\n",
              "          (LayerNorm): LayerNorm((768,), eps=1e-12, elementwise_affine=True)\n",
              "          (dropout): Dropout(p=0.1, inplace=False)\n",
              "        )\n",
              "      )\n",
              "      (3): BertLayer(\n",
              "        (attention): BertAttention(\n",
              "          (self): BertSelfAttention(\n",
              "            (query): Linear(in_features=768, out_features=768, bias=True)\n",
              "            (key): Linear(in_features=768, out_features=768, bias=True)\n",
              "            (value): Linear(in_features=768, out_features=768, bias=True)\n",
              "            (dropout): Dropout(p=0.1, inplace=False)\n",
              "          )\n",
              "          (output): BertSelfOutput(\n",
              "            (dense): Linear(in_features=768, out_features=768, bias=True)\n",
              "            (LayerNorm): LayerNorm((768,), eps=1e-12, elementwise_affine=True)\n",
              "            (dropout): Dropout(p=0.1, inplace=False)\n",
              "          )\n",
              "        )\n",
              "        (intermediate): BertIntermediate(\n",
              "          (dense): Linear(in_features=768, out_features=3072, bias=True)\n",
              "        )\n",
              "        (output): BertOutput(\n",
              "          (dense): Linear(in_features=3072, out_features=768, bias=True)\n",
              "          (LayerNorm): LayerNorm((768,), eps=1e-12, elementwise_affine=True)\n",
              "          (dropout): Dropout(p=0.1, inplace=False)\n",
              "        )\n",
              "      )\n",
              "      (4): BertLayer(\n",
              "        (attention): BertAttention(\n",
              "          (self): BertSelfAttention(\n",
              "            (query): Linear(in_features=768, out_features=768, bias=True)\n",
              "            (key): Linear(in_features=768, out_features=768, bias=True)\n",
              "            (value): Linear(in_features=768, out_features=768, bias=True)\n",
              "            (dropout): Dropout(p=0.1, inplace=False)\n",
              "          )\n",
              "          (output): BertSelfOutput(\n",
              "            (dense): Linear(in_features=768, out_features=768, bias=True)\n",
              "            (LayerNorm): LayerNorm((768,), eps=1e-12, elementwise_affine=True)\n",
              "            (dropout): Dropout(p=0.1, inplace=False)\n",
              "          )\n",
              "        )\n",
              "        (intermediate): BertIntermediate(\n",
              "          (dense): Linear(in_features=768, out_features=3072, bias=True)\n",
              "        )\n",
              "        (output): BertOutput(\n",
              "          (dense): Linear(in_features=3072, out_features=768, bias=True)\n",
              "          (LayerNorm): LayerNorm((768,), eps=1e-12, elementwise_affine=True)\n",
              "          (dropout): Dropout(p=0.1, inplace=False)\n",
              "        )\n",
              "      )\n",
              "      (5): BertLayer(\n",
              "        (attention): BertAttention(\n",
              "          (self): BertSelfAttention(\n",
              "            (query): Linear(in_features=768, out_features=768, bias=True)\n",
              "            (key): Linear(in_features=768, out_features=768, bias=True)\n",
              "            (value): Linear(in_features=768, out_features=768, bias=True)\n",
              "            (dropout): Dropout(p=0.1, inplace=False)\n",
              "          )\n",
              "          (output): BertSelfOutput(\n",
              "            (dense): Linear(in_features=768, out_features=768, bias=True)\n",
              "            (LayerNorm): LayerNorm((768,), eps=1e-12, elementwise_affine=True)\n",
              "            (dropout): Dropout(p=0.1, inplace=False)\n",
              "          )\n",
              "        )\n",
              "        (intermediate): BertIntermediate(\n",
              "          (dense): Linear(in_features=768, out_features=3072, bias=True)\n",
              "        )\n",
              "        (output): BertOutput(\n",
              "          (dense): Linear(in_features=3072, out_features=768, bias=True)\n",
              "          (LayerNorm): LayerNorm((768,), eps=1e-12, elementwise_affine=True)\n",
              "          (dropout): Dropout(p=0.1, inplace=False)\n",
              "        )\n",
              "      )\n",
              "      (6): BertLayer(\n",
              "        (attention): BertAttention(\n",
              "          (self): BertSelfAttention(\n",
              "            (query): Linear(in_features=768, out_features=768, bias=True)\n",
              "            (key): Linear(in_features=768, out_features=768, bias=True)\n",
              "            (value): Linear(in_features=768, out_features=768, bias=True)\n",
              "            (dropout): Dropout(p=0.1, inplace=False)\n",
              "          )\n",
              "          (output): BertSelfOutput(\n",
              "            (dense): Linear(in_features=768, out_features=768, bias=True)\n",
              "            (LayerNorm): LayerNorm((768,), eps=1e-12, elementwise_affine=True)\n",
              "            (dropout): Dropout(p=0.1, inplace=False)\n",
              "          )\n",
              "        )\n",
              "        (intermediate): BertIntermediate(\n",
              "          (dense): Linear(in_features=768, out_features=3072, bias=True)\n",
              "        )\n",
              "        (output): BertOutput(\n",
              "          (dense): Linear(in_features=3072, out_features=768, bias=True)\n",
              "          (LayerNorm): LayerNorm((768,), eps=1e-12, elementwise_affine=True)\n",
              "          (dropout): Dropout(p=0.1, inplace=False)\n",
              "        )\n",
              "      )\n",
              "      (7): BertLayer(\n",
              "        (attention): BertAttention(\n",
              "          (self): BertSelfAttention(\n",
              "            (query): Linear(in_features=768, out_features=768, bias=True)\n",
              "            (key): Linear(in_features=768, out_features=768, bias=True)\n",
              "            (value): Linear(in_features=768, out_features=768, bias=True)\n",
              "            (dropout): Dropout(p=0.1, inplace=False)\n",
              "          )\n",
              "          (output): BertSelfOutput(\n",
              "            (dense): Linear(in_features=768, out_features=768, bias=True)\n",
              "            (LayerNorm): LayerNorm((768,), eps=1e-12, elementwise_affine=True)\n",
              "            (dropout): Dropout(p=0.1, inplace=False)\n",
              "          )\n",
              "        )\n",
              "        (intermediate): BertIntermediate(\n",
              "          (dense): Linear(in_features=768, out_features=3072, bias=True)\n",
              "        )\n",
              "        (output): BertOutput(\n",
              "          (dense): Linear(in_features=3072, out_features=768, bias=True)\n",
              "          (LayerNorm): LayerNorm((768,), eps=1e-12, elementwise_affine=True)\n",
              "          (dropout): Dropout(p=0.1, inplace=False)\n",
              "        )\n",
              "      )\n",
              "      (8): BertLayer(\n",
              "        (attention): BertAttention(\n",
              "          (self): BertSelfAttention(\n",
              "            (query): Linear(in_features=768, out_features=768, bias=True)\n",
              "            (key): Linear(in_features=768, out_features=768, bias=True)\n",
              "            (value): Linear(in_features=768, out_features=768, bias=True)\n",
              "            (dropout): Dropout(p=0.1, inplace=False)\n",
              "          )\n",
              "          (output): BertSelfOutput(\n",
              "            (dense): Linear(in_features=768, out_features=768, bias=True)\n",
              "            (LayerNorm): LayerNorm((768,), eps=1e-12, elementwise_affine=True)\n",
              "            (dropout): Dropout(p=0.1, inplace=False)\n",
              "          )\n",
              "        )\n",
              "        (intermediate): BertIntermediate(\n",
              "          (dense): Linear(in_features=768, out_features=3072, bias=True)\n",
              "        )\n",
              "        (output): BertOutput(\n",
              "          (dense): Linear(in_features=3072, out_features=768, bias=True)\n",
              "          (LayerNorm): LayerNorm((768,), eps=1e-12, elementwise_affine=True)\n",
              "          (dropout): Dropout(p=0.1, inplace=False)\n",
              "        )\n",
              "      )\n",
              "      (9): BertLayer(\n",
              "        (attention): BertAttention(\n",
              "          (self): BertSelfAttention(\n",
              "            (query): Linear(in_features=768, out_features=768, bias=True)\n",
              "            (key): Linear(in_features=768, out_features=768, bias=True)\n",
              "            (value): Linear(in_features=768, out_features=768, bias=True)\n",
              "            (dropout): Dropout(p=0.1, inplace=False)\n",
              "          )\n",
              "          (output): BertSelfOutput(\n",
              "            (dense): Linear(in_features=768, out_features=768, bias=True)\n",
              "            (LayerNorm): LayerNorm((768,), eps=1e-12, elementwise_affine=True)\n",
              "            (dropout): Dropout(p=0.1, inplace=False)\n",
              "          )\n",
              "        )\n",
              "        (intermediate): BertIntermediate(\n",
              "          (dense): Linear(in_features=768, out_features=3072, bias=True)\n",
              "        )\n",
              "        (output): BertOutput(\n",
              "          (dense): Linear(in_features=3072, out_features=768, bias=True)\n",
              "          (LayerNorm): LayerNorm((768,), eps=1e-12, elementwise_affine=True)\n",
              "          (dropout): Dropout(p=0.1, inplace=False)\n",
              "        )\n",
              "      )\n",
              "      (10): BertLayer(\n",
              "        (attention): BertAttention(\n",
              "          (self): BertSelfAttention(\n",
              "            (query): Linear(in_features=768, out_features=768, bias=True)\n",
              "            (key): Linear(in_features=768, out_features=768, bias=True)\n",
              "            (value): Linear(in_features=768, out_features=768, bias=True)\n",
              "            (dropout): Dropout(p=0.1, inplace=False)\n",
              "          )\n",
              "          (output): BertSelfOutput(\n",
              "            (dense): Linear(in_features=768, out_features=768, bias=True)\n",
              "            (LayerNorm): LayerNorm((768,), eps=1e-12, elementwise_affine=True)\n",
              "            (dropout): Dropout(p=0.1, inplace=False)\n",
              "          )\n",
              "        )\n",
              "        (intermediate): BertIntermediate(\n",
              "          (dense): Linear(in_features=768, out_features=3072, bias=True)\n",
              "        )\n",
              "        (output): BertOutput(\n",
              "          (dense): Linear(in_features=3072, out_features=768, bias=True)\n",
              "          (LayerNorm): LayerNorm((768,), eps=1e-12, elementwise_affine=True)\n",
              "          (dropout): Dropout(p=0.1, inplace=False)\n",
              "        )\n",
              "      )\n",
              "      (11): BertLayer(\n",
              "        (attention): BertAttention(\n",
              "          (self): BertSelfAttention(\n",
              "            (query): Linear(in_features=768, out_features=768, bias=True)\n",
              "            (key): Linear(in_features=768, out_features=768, bias=True)\n",
              "            (value): Linear(in_features=768, out_features=768, bias=True)\n",
              "            (dropout): Dropout(p=0.1, inplace=False)\n",
              "          )\n",
              "          (output): BertSelfOutput(\n",
              "            (dense): Linear(in_features=768, out_features=768, bias=True)\n",
              "            (LayerNorm): LayerNorm((768,), eps=1e-12, elementwise_affine=True)\n",
              "            (dropout): Dropout(p=0.1, inplace=False)\n",
              "          )\n",
              "        )\n",
              "        (intermediate): BertIntermediate(\n",
              "          (dense): Linear(in_features=768, out_features=3072, bias=True)\n",
              "        )\n",
              "        (output): BertOutput(\n",
              "          (dense): Linear(in_features=3072, out_features=768, bias=True)\n",
              "          (LayerNorm): LayerNorm((768,), eps=1e-12, elementwise_affine=True)\n",
              "          (dropout): Dropout(p=0.1, inplace=False)\n",
              "        )\n",
              "      )\n",
              "    )\n",
              "  )\n",
              "  (pooler): BertPooler(\n",
              "    (dense): Linear(in_features=768, out_features=768, bias=True)\n",
              "    (activation): Tanh()\n",
              "  )\n",
              ")"
            ]
          },
          "metadata": {},
          "execution_count": 9
        }
      ]
    },
    {
      "cell_type": "code",
      "metadata": {
        "colab": {
          "base_uri": "https://localhost:8080/"
        },
        "id": "mtBO-zdfl61J",
        "outputId": "7fffca0d-45bf-4f2a-9b8f-668e09670586"
      },
      "source": [
        "chatbot_Question = data['Q'].values\n",
        "chatbot_Answer = data['A'].values\n",
        "print(chatbot_Question[0:3])\n",
        "print(chatbot_Answer[0:3])"
      ],
      "execution_count": null,
      "outputs": [
        {
          "output_type": "stream",
          "text": [
            "['12시 땡!' '1지망 학교 떨어졌어' '3박4일 놀러가고 싶다']\n",
            "['하루가 또 가네요.' '위로해 드립니다.' '여행은 언제나 좋죠.']\n"
          ],
          "name": "stdout"
        }
      ]
    },
    {
      "cell_type": "markdown",
      "metadata": {
        "id": "_U-azHLTmQUq"
      },
      "source": [
        "### [CLS] token을 얻기 위한 함수"
      ]
    },
    {
      "cell_type": "code",
      "metadata": {
        "id": "t5UIcCiGmSfY"
      },
      "source": [
        "def get_cls_token(sent_A):\n",
        "    model.eval()\n",
        "    tokenized_sent = tokenizer(\n",
        "            sent_A,\n",
        "            return_tensors=\"pt\",\n",
        "            truncation=True,\n",
        "            add_special_tokens=True,\n",
        "            max_length=32\n",
        "    ).to(device)\n",
        "    with torch.no_grad():# 그라디엔트 계산 비활성화\n",
        "        outputs = model(\n",
        "            input_ids=tokenized_sent['input_ids'],\n",
        "            attention_mask=tokenized_sent['attention_mask'],\n",
        "            token_type_ids=tokenized_sent['token_type_ids']\n",
        "            )\n",
        "    logits = outputs.last_hidden_state[:,0,:].detach().cpu().numpy()\n",
        "    return logits"
      ],
      "execution_count": null,
      "outputs": []
    },
    {
      "cell_type": "markdown",
      "metadata": {
        "id": "qkw4P43gmwrL"
      },
      "source": [
        "전체 질문에 대한 vector 정보를 저장하도록 하겠습니다."
      ]
    },
    {
      "cell_type": "code",
      "metadata": {
        "id": "j8YTIQlMm-Sa"
      },
      "source": [
        "chatbot_Question_vectors = {}\n",
        "for i, question in enumerate(chatbot_Question):\n",
        "    chatbot_Question_vectors[i] = get_cls_token(question)"
      ],
      "execution_count": null,
      "outputs": []
    },
    {
      "cell_type": "markdown",
      "metadata": {
        "id": "44gz8wtgnrXi"
      },
      "source": [
        "이제 전체 질문과 유사도를 검사해서 top-n개를 반환하는 코드를 작성해보겠습니다."
      ]
    },
    {
      "cell_type": "code",
      "metadata": {
        "id": "KHM43CnyP-1m"
      },
      "source": [
        "import numpy as np"
      ],
      "execution_count": null,
      "outputs": []
    },
    {
      "cell_type": "code",
      "metadata": {
        "id": "sBybaGWVmky0"
      },
      "source": [
        "def custom_cosine_similarity(a,b):\n",
        "    numerator = np.dot(a,b.T)\n",
        "    a_norm = np.sqrt(np.sum(a * a))\n",
        "    b_norm = np.sqrt(np.sum(b * b, axis=-1))\n",
        "\n",
        "    denominator = a_norm * b_norm\n",
        "    return numerator/denominator"
      ],
      "execution_count": null,
      "outputs": []
    },
    {
      "cell_type": "code",
      "metadata": {
        "id": "kmqE20Hjn1aL"
      },
      "source": [
        "def return_top_n_idx(question, n):\n",
        "    question_vector = get_cls_token(question)\n",
        "    sentence_similarity = {}\n",
        "    for i in chatbot_Question_vectors.keys():\n",
        "        ir_vector = chatbot_Question_vectors[i]\n",
        "        similarity = custom_cosine_similarity(question_vector, ir_vector)\n",
        "        sentence_similarity[i] = similarity\n",
        "\n",
        "    sorted_sim = sorted(sentence_similarity.items(), key=lambda x: x[1], reverse=True)\n",
        "    return sorted_sim[0:n]"
      ],
      "execution_count": null,
      "outputs": []
    },
    {
      "cell_type": "code",
      "metadata": {
        "colab": {
          "base_uri": "https://localhost:8080/"
        },
        "id": "8C11ItGwpB3Q",
        "outputId": "a339389f-9270-47a3-a188-da5996085233"
      },
      "source": [
        "print(return_top_n_idx(\"오늘 너무 힘들어\", 5))  # top 5개 question id를 반환합니다."
      ],
      "execution_count": null,
      "outputs": [
        {
          "output_type": "stream",
          "text": [
            "[(3285, array([[0.97600377]], dtype=float32)), (7121, array([[0.9664848]], dtype=float32)), (5947, array([[0.9598295]], dtype=float32)), (5959, array([[0.95737875]], dtype=float32)), (7176, array([[0.9529198]], dtype=float32))]\n"
          ],
          "name": "stdout"
        }
      ]
    },
    {
      "cell_type": "code",
      "metadata": {
        "colab": {
          "base_uri": "https://localhost:8080/"
        },
        "id": "3tU-fekFpjXX",
        "outputId": "1a369ab1-c65e-41e7-be2d-c0b98d6b8336"
      },
      "source": [
        "print('most similar questions')\n",
        "for result in return_top_n_idx(\"오늘 너무 힘들어\", 5):\n",
        "    print(chatbot_Question[result[0]])\n",
        "print('\\nmost similar answers')\n",
        "for result in return_top_n_idx(\"오늘 너무 힘들어\", 5):\n",
        "    print(chatbot_Answer[result[0]])"
      ],
      "execution_count": null,
      "outputs": [
        {
          "output_type": "stream",
          "text": [
            "most similar questions\n",
            "오늘 너무 힘들다\n",
            "오늘 너무 힘드네\n",
            "너무 힘들어\n",
            "너무나도 힘들어\n",
            "오늘따라 너무 힘드네\n",
            "\n",
            "most similar answers\n",
            "고생 많았어요.\n",
            "오늘은 힘내려 하지 말아요. 저에게 기대세요.\n",
            "지금 무슨 말을 해도 와닿지 않겠지만 잘할 수 있을 거예요.\n",
            "억지로라도 긍정적인 생각을 해보세요.\n",
            "힘든 날이네요.\n"
          ],
          "name": "stdout"
        }
      ]
    },
    {
      "cell_type": "markdown",
      "metadata": {
        "id": "gyS1-1owqDCT"
      },
      "source": [
        "하지만 Top-1의 결과가 정답이 아닌 경우도 있습니다."
      ]
    },
    {
      "cell_type": "code",
      "metadata": {
        "colab": {
          "base_uri": "https://localhost:8080/"
        },
        "id": "eU_8D44gp5c7",
        "outputId": "6687faa2-3103-4a15-8ec2-86baa465a48b"
      },
      "source": [
        "print('most similar questions')\n",
        "for result in return_top_n_idx(\"너 이름이 뭐야?\", 5):\n",
        "    print(chatbot_Question[result[0]])\n",
        "print('\\nmost similar answers')\n",
        "for result in return_top_n_idx(\"너 이름이 뭐야?\", 5):\n",
        "    print(chatbot_Answer[result[0]])"
      ],
      "execution_count": null,
      "outputs": [
        {
          "output_type": "stream",
          "text": [
            "most similar questions\n",
            "우정이 뭐야?\n",
            "너 뭐니?\n",
            "할 줄 아는거 뭐야?\n",
            "사랑의 끝이 뭐야?\n",
            "너 누구?\n",
            "\n",
            "most similar answers\n",
            "힘들 때 같이 있는 거요.\n",
            "저는 위로봇입니다.\n",
            "당신의 삶을 응원해 드릴 수 있어요라고 감히 말해 봅니다.\n",
            "사랑하지 않는 것이죠.\n",
            "저는 마음을 이어주는 위로봇입니다.\n"
          ],
          "name": "stdout"
        }
      ]
    },
    {
      "cell_type": "markdown",
      "metadata": {
        "id": "qPdH185JqMcf"
      },
      "source": [
        "## 이진 분류 모델"
      ]
    },
    {
      "cell_type": "markdown",
      "metadata": {
        "id": "2gmRckGGqPae"
      },
      "source": [
        "먼저 앞서서 학습한 문장 분류 모델을 load하겠습니다."
      ]
    },
    {
      "cell_type": "code",
      "metadata": {
        "id": "QRusaFLoqWDj"
      },
      "source": [
        "from google.colab import drive\n",
        "drive.mount('/content/drive')"
      ],
      "execution_count": null,
      "outputs": []
    },
    {
      "cell_type": "code",
      "metadata": {
        "colab": {
          "base_uri": "https://localhost:8080/"
        },
        "id": "ZUMY-0_7qTmv",
        "outputId": "3fbb09ae-f002-4b1a-bd16-bf722c6f5647"
      },
      "source": [
        "from transformers import BertForSequenceClassification\n",
        "\n",
        "MODEL_NAME = \"/content/drive/MyDrive/P_KLUE/baseline_model/bert_two_sent_classifier\"\n",
        "classifier_model = BertForSequenceClassification.from_pretrained(MODEL_NAME)\n",
        "classifier_model.to(device)"
      ],
      "execution_count": null,
      "outputs": [
        {
          "output_type": "execute_result",
          "data": {
            "text/plain": [
              "BertForSequenceClassification(\n",
              "  (bert): BertModel(\n",
              "    (embeddings): BertEmbeddings(\n",
              "      (word_embeddings): Embedding(119547, 768, padding_idx=0)\n",
              "      (position_embeddings): Embedding(512, 768)\n",
              "      (token_type_embeddings): Embedding(2, 768)\n",
              "      (LayerNorm): LayerNorm((768,), eps=1e-12, elementwise_affine=True)\n",
              "      (dropout): Dropout(p=0.1, inplace=False)\n",
              "    )\n",
              "    (encoder): BertEncoder(\n",
              "      (layer): ModuleList(\n",
              "        (0): BertLayer(\n",
              "          (attention): BertAttention(\n",
              "            (self): BertSelfAttention(\n",
              "              (query): Linear(in_features=768, out_features=768, bias=True)\n",
              "              (key): Linear(in_features=768, out_features=768, bias=True)\n",
              "              (value): Linear(in_features=768, out_features=768, bias=True)\n",
              "              (dropout): Dropout(p=0.1, inplace=False)\n",
              "            )\n",
              "            (output): BertSelfOutput(\n",
              "              (dense): Linear(in_features=768, out_features=768, bias=True)\n",
              "              (LayerNorm): LayerNorm((768,), eps=1e-12, elementwise_affine=True)\n",
              "              (dropout): Dropout(p=0.1, inplace=False)\n",
              "            )\n",
              "          )\n",
              "          (intermediate): BertIntermediate(\n",
              "            (dense): Linear(in_features=768, out_features=3072, bias=True)\n",
              "          )\n",
              "          (output): BertOutput(\n",
              "            (dense): Linear(in_features=3072, out_features=768, bias=True)\n",
              "            (LayerNorm): LayerNorm((768,), eps=1e-12, elementwise_affine=True)\n",
              "            (dropout): Dropout(p=0.1, inplace=False)\n",
              "          )\n",
              "        )\n",
              "        (1): BertLayer(\n",
              "          (attention): BertAttention(\n",
              "            (self): BertSelfAttention(\n",
              "              (query): Linear(in_features=768, out_features=768, bias=True)\n",
              "              (key): Linear(in_features=768, out_features=768, bias=True)\n",
              "              (value): Linear(in_features=768, out_features=768, bias=True)\n",
              "              (dropout): Dropout(p=0.1, inplace=False)\n",
              "            )\n",
              "            (output): BertSelfOutput(\n",
              "              (dense): Linear(in_features=768, out_features=768, bias=True)\n",
              "              (LayerNorm): LayerNorm((768,), eps=1e-12, elementwise_affine=True)\n",
              "              (dropout): Dropout(p=0.1, inplace=False)\n",
              "            )\n",
              "          )\n",
              "          (intermediate): BertIntermediate(\n",
              "            (dense): Linear(in_features=768, out_features=3072, bias=True)\n",
              "          )\n",
              "          (output): BertOutput(\n",
              "            (dense): Linear(in_features=3072, out_features=768, bias=True)\n",
              "            (LayerNorm): LayerNorm((768,), eps=1e-12, elementwise_affine=True)\n",
              "            (dropout): Dropout(p=0.1, inplace=False)\n",
              "          )\n",
              "        )\n",
              "        (2): BertLayer(\n",
              "          (attention): BertAttention(\n",
              "            (self): BertSelfAttention(\n",
              "              (query): Linear(in_features=768, out_features=768, bias=True)\n",
              "              (key): Linear(in_features=768, out_features=768, bias=True)\n",
              "              (value): Linear(in_features=768, out_features=768, bias=True)\n",
              "              (dropout): Dropout(p=0.1, inplace=False)\n",
              "            )\n",
              "            (output): BertSelfOutput(\n",
              "              (dense): Linear(in_features=768, out_features=768, bias=True)\n",
              "              (LayerNorm): LayerNorm((768,), eps=1e-12, elementwise_affine=True)\n",
              "              (dropout): Dropout(p=0.1, inplace=False)\n",
              "            )\n",
              "          )\n",
              "          (intermediate): BertIntermediate(\n",
              "            (dense): Linear(in_features=768, out_features=3072, bias=True)\n",
              "          )\n",
              "          (output): BertOutput(\n",
              "            (dense): Linear(in_features=3072, out_features=768, bias=True)\n",
              "            (LayerNorm): LayerNorm((768,), eps=1e-12, elementwise_affine=True)\n",
              "            (dropout): Dropout(p=0.1, inplace=False)\n",
              "          )\n",
              "        )\n",
              "        (3): BertLayer(\n",
              "          (attention): BertAttention(\n",
              "            (self): BertSelfAttention(\n",
              "              (query): Linear(in_features=768, out_features=768, bias=True)\n",
              "              (key): Linear(in_features=768, out_features=768, bias=True)\n",
              "              (value): Linear(in_features=768, out_features=768, bias=True)\n",
              "              (dropout): Dropout(p=0.1, inplace=False)\n",
              "            )\n",
              "            (output): BertSelfOutput(\n",
              "              (dense): Linear(in_features=768, out_features=768, bias=True)\n",
              "              (LayerNorm): LayerNorm((768,), eps=1e-12, elementwise_affine=True)\n",
              "              (dropout): Dropout(p=0.1, inplace=False)\n",
              "            )\n",
              "          )\n",
              "          (intermediate): BertIntermediate(\n",
              "            (dense): Linear(in_features=768, out_features=3072, bias=True)\n",
              "          )\n",
              "          (output): BertOutput(\n",
              "            (dense): Linear(in_features=3072, out_features=768, bias=True)\n",
              "            (LayerNorm): LayerNorm((768,), eps=1e-12, elementwise_affine=True)\n",
              "            (dropout): Dropout(p=0.1, inplace=False)\n",
              "          )\n",
              "        )\n",
              "        (4): BertLayer(\n",
              "          (attention): BertAttention(\n",
              "            (self): BertSelfAttention(\n",
              "              (query): Linear(in_features=768, out_features=768, bias=True)\n",
              "              (key): Linear(in_features=768, out_features=768, bias=True)\n",
              "              (value): Linear(in_features=768, out_features=768, bias=True)\n",
              "              (dropout): Dropout(p=0.1, inplace=False)\n",
              "            )\n",
              "            (output): BertSelfOutput(\n",
              "              (dense): Linear(in_features=768, out_features=768, bias=True)\n",
              "              (LayerNorm): LayerNorm((768,), eps=1e-12, elementwise_affine=True)\n",
              "              (dropout): Dropout(p=0.1, inplace=False)\n",
              "            )\n",
              "          )\n",
              "          (intermediate): BertIntermediate(\n",
              "            (dense): Linear(in_features=768, out_features=3072, bias=True)\n",
              "          )\n",
              "          (output): BertOutput(\n",
              "            (dense): Linear(in_features=3072, out_features=768, bias=True)\n",
              "            (LayerNorm): LayerNorm((768,), eps=1e-12, elementwise_affine=True)\n",
              "            (dropout): Dropout(p=0.1, inplace=False)\n",
              "          )\n",
              "        )\n",
              "        (5): BertLayer(\n",
              "          (attention): BertAttention(\n",
              "            (self): BertSelfAttention(\n",
              "              (query): Linear(in_features=768, out_features=768, bias=True)\n",
              "              (key): Linear(in_features=768, out_features=768, bias=True)\n",
              "              (value): Linear(in_features=768, out_features=768, bias=True)\n",
              "              (dropout): Dropout(p=0.1, inplace=False)\n",
              "            )\n",
              "            (output): BertSelfOutput(\n",
              "              (dense): Linear(in_features=768, out_features=768, bias=True)\n",
              "              (LayerNorm): LayerNorm((768,), eps=1e-12, elementwise_affine=True)\n",
              "              (dropout): Dropout(p=0.1, inplace=False)\n",
              "            )\n",
              "          )\n",
              "          (intermediate): BertIntermediate(\n",
              "            (dense): Linear(in_features=768, out_features=3072, bias=True)\n",
              "          )\n",
              "          (output): BertOutput(\n",
              "            (dense): Linear(in_features=3072, out_features=768, bias=True)\n",
              "            (LayerNorm): LayerNorm((768,), eps=1e-12, elementwise_affine=True)\n",
              "            (dropout): Dropout(p=0.1, inplace=False)\n",
              "          )\n",
              "        )\n",
              "        (6): BertLayer(\n",
              "          (attention): BertAttention(\n",
              "            (self): BertSelfAttention(\n",
              "              (query): Linear(in_features=768, out_features=768, bias=True)\n",
              "              (key): Linear(in_features=768, out_features=768, bias=True)\n",
              "              (value): Linear(in_features=768, out_features=768, bias=True)\n",
              "              (dropout): Dropout(p=0.1, inplace=False)\n",
              "            )\n",
              "            (output): BertSelfOutput(\n",
              "              (dense): Linear(in_features=768, out_features=768, bias=True)\n",
              "              (LayerNorm): LayerNorm((768,), eps=1e-12, elementwise_affine=True)\n",
              "              (dropout): Dropout(p=0.1, inplace=False)\n",
              "            )\n",
              "          )\n",
              "          (intermediate): BertIntermediate(\n",
              "            (dense): Linear(in_features=768, out_features=3072, bias=True)\n",
              "          )\n",
              "          (output): BertOutput(\n",
              "            (dense): Linear(in_features=3072, out_features=768, bias=True)\n",
              "            (LayerNorm): LayerNorm((768,), eps=1e-12, elementwise_affine=True)\n",
              "            (dropout): Dropout(p=0.1, inplace=False)\n",
              "          )\n",
              "        )\n",
              "        (7): BertLayer(\n",
              "          (attention): BertAttention(\n",
              "            (self): BertSelfAttention(\n",
              "              (query): Linear(in_features=768, out_features=768, bias=True)\n",
              "              (key): Linear(in_features=768, out_features=768, bias=True)\n",
              "              (value): Linear(in_features=768, out_features=768, bias=True)\n",
              "              (dropout): Dropout(p=0.1, inplace=False)\n",
              "            )\n",
              "            (output): BertSelfOutput(\n",
              "              (dense): Linear(in_features=768, out_features=768, bias=True)\n",
              "              (LayerNorm): LayerNorm((768,), eps=1e-12, elementwise_affine=True)\n",
              "              (dropout): Dropout(p=0.1, inplace=False)\n",
              "            )\n",
              "          )\n",
              "          (intermediate): BertIntermediate(\n",
              "            (dense): Linear(in_features=768, out_features=3072, bias=True)\n",
              "          )\n",
              "          (output): BertOutput(\n",
              "            (dense): Linear(in_features=3072, out_features=768, bias=True)\n",
              "            (LayerNorm): LayerNorm((768,), eps=1e-12, elementwise_affine=True)\n",
              "            (dropout): Dropout(p=0.1, inplace=False)\n",
              "          )\n",
              "        )\n",
              "        (8): BertLayer(\n",
              "          (attention): BertAttention(\n",
              "            (self): BertSelfAttention(\n",
              "              (query): Linear(in_features=768, out_features=768, bias=True)\n",
              "              (key): Linear(in_features=768, out_features=768, bias=True)\n",
              "              (value): Linear(in_features=768, out_features=768, bias=True)\n",
              "              (dropout): Dropout(p=0.1, inplace=False)\n",
              "            )\n",
              "            (output): BertSelfOutput(\n",
              "              (dense): Linear(in_features=768, out_features=768, bias=True)\n",
              "              (LayerNorm): LayerNorm((768,), eps=1e-12, elementwise_affine=True)\n",
              "              (dropout): Dropout(p=0.1, inplace=False)\n",
              "            )\n",
              "          )\n",
              "          (intermediate): BertIntermediate(\n",
              "            (dense): Linear(in_features=768, out_features=3072, bias=True)\n",
              "          )\n",
              "          (output): BertOutput(\n",
              "            (dense): Linear(in_features=3072, out_features=768, bias=True)\n",
              "            (LayerNorm): LayerNorm((768,), eps=1e-12, elementwise_affine=True)\n",
              "            (dropout): Dropout(p=0.1, inplace=False)\n",
              "          )\n",
              "        )\n",
              "        (9): BertLayer(\n",
              "          (attention): BertAttention(\n",
              "            (self): BertSelfAttention(\n",
              "              (query): Linear(in_features=768, out_features=768, bias=True)\n",
              "              (key): Linear(in_features=768, out_features=768, bias=True)\n",
              "              (value): Linear(in_features=768, out_features=768, bias=True)\n",
              "              (dropout): Dropout(p=0.1, inplace=False)\n",
              "            )\n",
              "            (output): BertSelfOutput(\n",
              "              (dense): Linear(in_features=768, out_features=768, bias=True)\n",
              "              (LayerNorm): LayerNorm((768,), eps=1e-12, elementwise_affine=True)\n",
              "              (dropout): Dropout(p=0.1, inplace=False)\n",
              "            )\n",
              "          )\n",
              "          (intermediate): BertIntermediate(\n",
              "            (dense): Linear(in_features=768, out_features=3072, bias=True)\n",
              "          )\n",
              "          (output): BertOutput(\n",
              "            (dense): Linear(in_features=3072, out_features=768, bias=True)\n",
              "            (LayerNorm): LayerNorm((768,), eps=1e-12, elementwise_affine=True)\n",
              "            (dropout): Dropout(p=0.1, inplace=False)\n",
              "          )\n",
              "        )\n",
              "        (10): BertLayer(\n",
              "          (attention): BertAttention(\n",
              "            (self): BertSelfAttention(\n",
              "              (query): Linear(in_features=768, out_features=768, bias=True)\n",
              "              (key): Linear(in_features=768, out_features=768, bias=True)\n",
              "              (value): Linear(in_features=768, out_features=768, bias=True)\n",
              "              (dropout): Dropout(p=0.1, inplace=False)\n",
              "            )\n",
              "            (output): BertSelfOutput(\n",
              "              (dense): Linear(in_features=768, out_features=768, bias=True)\n",
              "              (LayerNorm): LayerNorm((768,), eps=1e-12, elementwise_affine=True)\n",
              "              (dropout): Dropout(p=0.1, inplace=False)\n",
              "            )\n",
              "          )\n",
              "          (intermediate): BertIntermediate(\n",
              "            (dense): Linear(in_features=768, out_features=3072, bias=True)\n",
              "          )\n",
              "          (output): BertOutput(\n",
              "            (dense): Linear(in_features=3072, out_features=768, bias=True)\n",
              "            (LayerNorm): LayerNorm((768,), eps=1e-12, elementwise_affine=True)\n",
              "            (dropout): Dropout(p=0.1, inplace=False)\n",
              "          )\n",
              "        )\n",
              "        (11): BertLayer(\n",
              "          (attention): BertAttention(\n",
              "            (self): BertSelfAttention(\n",
              "              (query): Linear(in_features=768, out_features=768, bias=True)\n",
              "              (key): Linear(in_features=768, out_features=768, bias=True)\n",
              "              (value): Linear(in_features=768, out_features=768, bias=True)\n",
              "              (dropout): Dropout(p=0.1, inplace=False)\n",
              "            )\n",
              "            (output): BertSelfOutput(\n",
              "              (dense): Linear(in_features=768, out_features=768, bias=True)\n",
              "              (LayerNorm): LayerNorm((768,), eps=1e-12, elementwise_affine=True)\n",
              "              (dropout): Dropout(p=0.1, inplace=False)\n",
              "            )\n",
              "          )\n",
              "          (intermediate): BertIntermediate(\n",
              "            (dense): Linear(in_features=768, out_features=3072, bias=True)\n",
              "          )\n",
              "          (output): BertOutput(\n",
              "            (dense): Linear(in_features=3072, out_features=768, bias=True)\n",
              "            (LayerNorm): LayerNorm((768,), eps=1e-12, elementwise_affine=True)\n",
              "            (dropout): Dropout(p=0.1, inplace=False)\n",
              "          )\n",
              "        )\n",
              "      )\n",
              "    )\n",
              "    (pooler): BertPooler(\n",
              "      (dense): Linear(in_features=768, out_features=768, bias=True)\n",
              "      (activation): Tanh()\n",
              "    )\n",
              "  )\n",
              "  (dropout): Dropout(p=0.1, inplace=False)\n",
              "  (classifier): Linear(in_features=768, out_features=2, bias=True)\n",
              ")"
            ]
          },
          "metadata": {
            "tags": []
          },
          "execution_count": 6
        }
      ]
    },
    {
      "cell_type": "code",
      "metadata": {
        "id": "rlWK5Y3TAlQZ"
      },
      "source": [
        "# predict함수\n",
        "# 0: \"non_similar\", 1: \"similar\"\n",
        "def sentences_predict(sent_A, sent_B):\n",
        "    classifier_model.eval()\n",
        "    tokenized_sent = tokenizer(\n",
        "            sent_A,\n",
        "            sent_B,\n",
        "            return_tensors=\"pt\",\n",
        "            truncation=True,\n",
        "            add_special_tokens=True,\n",
        "            max_length=64\n",
        "    )\n",
        "\n",
        "    tokenized_sent.to('cuda:0')\n",
        "    with torch.no_grad():# 그라디엔트 계산 비활성화\n",
        "        outputs = classifier_model(\n",
        "            input_ids=tokenized_sent['input_ids'],\n",
        "            attention_mask=tokenized_sent['attention_mask'],\n",
        "            token_type_ids=tokenized_sent['token_type_ids']\n",
        "            )\n",
        "\n",
        "    logits = outputs[0]\n",
        "    logits = logits.detach().cpu().numpy()\n",
        "    result = np.argmax(logits)\n",
        "\n",
        "    # if result == 0:\n",
        "    #   result = 'non_similar'\n",
        "    # elif result == 1:\n",
        "    #   result = 'similar'\n",
        "    return result"
      ],
      "execution_count": null,
      "outputs": []
    },
    {
      "cell_type": "code",
      "metadata": {
        "id": "v-1Pw1iSA2FT",
        "colab": {
          "base_uri": "https://localhost:8080/"
        },
        "outputId": "d7e60895-cc7f-4824-e592-9e6cda75ba1d"
      },
      "source": [
        "print(sentences_predict('오늘 날씨가 어때요?','오늘의 날씨를 알려줘')) # similar\n",
        "print(sentences_predict('오늘 날씨가 어때요?','기분 진짜 안좋다.')) # non_similar\n",
        "print(sentences_predict('오늘 날씨가 어때요?','오늘 기분 어떠세요?')) # non_similar\n",
        "print(sentences_predict('오늘 날씨가 어때요?','오늘 기분이 어때요?')) # non_similar\n",
        "print(sentences_predict('오늘 날씨가 어때요?','지금 날씨가 어때요?')) # non_similar\n",
        "print(sentences_predict('무협 소설 추천해주세요.','무협 장르의 소설 추천 부탁드립니다.')) # similar\n",
        "print(sentences_predict('무협 소설 추천해주세요.','판타지 소설 추천해주세요.')) # non_similar\n",
        "print(sentences_predict('무협 소설 추천해주세요.','무협 느낌나는 소설 하나 추천해주실 수 있으실까요?')) # similar\n",
        "print(sentences_predict('메난민이 뭐야','너 메난민이지?')) # similar"
      ],
      "execution_count": null,
      "outputs": [
        {
          "output_type": "stream",
          "text": [
            "1\n",
            "0\n",
            "0\n",
            "0\n",
            "0\n",
            "1\n",
            "0\n",
            "1\n",
            "1\n"
          ],
          "name": "stdout"
        }
      ]
    },
    {
      "cell_type": "markdown",
      "metadata": {
        "id": "xqaBcIJ1rrp3"
      },
      "source": [
        "그럼 마지막으로 top_n개의 문장을 입력으로 받으면   \n",
        "가장 적절한 문장을 반환하는 함수를 작성하겠습니다.    "
      ]
    },
    {
      "cell_type": "code",
      "metadata": {
        "id": "FKclArygqcrM"
      },
      "source": [
        "def get_answer(question, n):\n",
        "    results = return_top_n_idx(question, n) # top n개를 list로 받고\n",
        "    for result in results:  # n개를 반복문을 돌면서\n",
        "        ir_answer = chatbot_Answer[result[0]]\n",
        "        ir_question = chatbot_Question[result[0]]\n",
        "        if sentences_predict(question, ir_question) == 1:   # 이진분류 모델이 query<->question의 의미가 서로 같다고 판단되면?\n",
        "            return ir_answer    # 정답을 반환합니다.\n",
        "    return chatbot_Answer[results[0][0]]    # \"잘 모르겠어요.\"\n"
      ],
      "execution_count": null,
      "outputs": []
    },
    {
      "cell_type": "code",
      "metadata": {
        "colab": {
          "base_uri": "https://localhost:8080/"
        },
        "id": "x9nTU3n-somT",
        "outputId": "e3456221-0c67-40ae-f773-095173d38261"
      },
      "source": [
        "print(get_answer(\"너 이름이 뭐야?\", 5))"
      ],
      "execution_count": null,
      "outputs": [
        {
          "output_type": "stream",
          "text": [
            "저는 위로봇입니다.\n"
          ],
          "name": "stdout"
        }
      ]
    },
    {
      "cell_type": "code",
      "metadata": {
        "colab": {
          "base_uri": "https://localhost:8080/"
        },
        "id": "8HiN9e-osx7r",
        "outputId": "2eff435f-d75c-4911-eb01-82eaae7a84da"
      },
      "source": [
        "print(get_answer(\"나 지금 너무 우울해\", 5))"
      ],
      "execution_count": null,
      "outputs": [
        {
          "output_type": "stream",
          "text": [
            "꼼꼼한 거예요.\n"
          ],
          "name": "stdout"
        }
      ]
    },
    {
      "cell_type": "code",
      "metadata": {
        "colab": {
          "base_uri": "https://localhost:8080/"
        },
        "id": "MC_ZOKKrtCg-",
        "outputId": "bda4a8fb-dd59-4bf8-c854-fe67caeb2869"
      },
      "source": [
        "print(get_answer(\"오늘 기분 어때?\", 5))"
      ],
      "execution_count": null,
      "outputs": [
        {
          "output_type": "stream",
          "text": [
            "숨 쉴만 했으면 좋겠네요.\n"
          ],
          "name": "stdout"
        }
      ]
    },
    {
      "cell_type": "code",
      "metadata": {
        "colab": {
          "base_uri": "https://localhost:8080/"
        },
        "id": "6bfmJn12tEj7",
        "outputId": "f73a9f1f-1b09-4f27-871d-655c072ee7f0"
      },
      "source": [
        "print(get_answer(\"바쁜가보네?\", 5))"
      ],
      "execution_count": null,
      "outputs": [
        {
          "output_type": "stream",
          "text": [
            "직접 확인해보세요.\n"
          ],
          "name": "stdout"
        }
      ]
    },
    {
      "cell_type": "code",
      "metadata": {
        "colab": {
          "base_uri": "https://localhost:8080/"
        },
        "id": "-ouNeSi4tIhT",
        "outputId": "bd85bf03-d911-4dd0-f00d-0cf46cf12a86"
      },
      "source": [
        "print(get_answer(\"어떻게 확인하는데?\", 5))"
      ],
      "execution_count": null,
      "outputs": [
        {
          "output_type": "stream",
          "text": [
            "잠시 차분하게 생각해봐요.\n"
          ],
          "name": "stdout"
        }
      ]
    },
    {
      "cell_type": "code",
      "metadata": {
        "id": "52Pa_kcKtQyL"
      },
      "source": [],
      "execution_count": null,
      "outputs": []
    }
  ]
}